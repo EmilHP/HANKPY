{
 "cells": [
  {
   "cell_type": "markdown",
   "metadata": {},
   "source": [
    "# Adaptive Tensor Product Grids - Applied to HANK"
   ]
  },
  {
   "cell_type": "markdown",
   "metadata": {},
   "source": [
    "The **choice of grids** when solving an economic model is somewhat of an **art**. Choosing grids in a smart way can substantially reduce the computational burden of solving a model leaving results unchanged. \n",
    "\n",
    "In **general equilibrium** and **structural estimation** applications, the model needs to be solved repeatedly, and it is therefore particularily benefial to spend some time initially on choosing the grids wisely.\n",
    "\n",
    "In this notebook, I propose a method for choosing **tensor product grids in an adaptive manner**. Algorithms exists for choosing adaptive sparse grids, but this requires that the solution method is changed to handle these more complex grids. This is not always possible, or might be cumbersome.\n",
    "\n",
    "The main idea is to **remove grid points where the function of interest is linear**.\n",
    "\n",
    "The **algorithm** in words is:\n",
    "\n",
    "1. Solve the model on a **fine tensor product grid** of your arbitrary choice\n",
    "2. **Initialize** the **adaptive tensor product grid** to the fine grid\n",
    "3. For each *second* grid point (not including the last) in each dimension, compute the **maximum absolute relative errror leaving this grid point out and using linear interpolation instead**. The  error is computed using the result at the fine tensor product grid and interpolation across the values in the current adaptive tensor product grid. The maximum is computed across all combinations of the grid points in the remaining dimensions.\n",
    "4. **Remove grids points** where the maximum absolute relative error is below some tolerance, and **update the adaptive tensor product grids** accordingly.\n",
    "5. **Stop if** no grid points were removed\n",
    "6. (*Optional*) **Re-solve the model** on the adaptive tensor product grid (else use the values from the solution fine grid).\n",
    "7. Return to step 3\n",
    "\n",
    "**Note I:** The above algorithm only requires solving the model once if step 6 is skipped.\n",
    "\n",
    "**Note II:** Re-solving the model will not result in the same values. The optional step 6 solves this.\n",
    "\n",
    "**Note III:** A termination based on a simulation result could be added."
   ]
  },
  {
   "cell_type": "markdown",
   "metadata": {},
   "source": [
    "# Setup"
   ]
  },
  {
   "cell_type": "code",
   "execution_count": 1,
   "metadata": {},
   "outputs": [],
   "source": [
    "from consav.runtools import write_numba_config\n",
    "write_numba_config(disable=0,threads=20,threading_layer='omp')"
   ]
  },
  {
   "cell_type": "code",
   "execution_count": 2,
   "metadata": {},
   "outputs": [],
   "source": [
    "import os\n",
    "import time\n",
    "import numpy as np\n",
    "\n",
    "import matplotlib.pyplot as plt\n",
    "plt.style.use('seaborn-whitegrid')\n",
    "colors = [x['color'] for x in plt.style.library['seaborn']['axes.prop_cycle']]\n",
    "markers = ['s','P','D','v','^','*']\n",
    "\n",
    "%load_ext autoreload\n",
    "%autoreload 2\n",
    "\n",
    "from consav.misc import elapsed\n",
    "from consav import linear_interp\n",
    "from TwoAssetModelCont import TwoAssetModelContClass"
   ]
  },
  {
   "cell_type": "markdown",
   "metadata": {},
   "source": [
    "# Solve HANK for fine grid in $a$-dimension"
   ]
  },
  {
   "cell_type": "code",
   "execution_count": 3,
   "metadata": {},
   "outputs": [
    {
     "name": "stdout",
     "output_type": "stream",
     "text": [
      "model created in 28.8 secs\n"
     ]
    }
   ],
   "source": [
    "t0 = time.time()\n",
    "model = TwoAssetModelContClass(name='HANK',like_HANK=True)\n",
    "print(f'model created in {elapsed(t0)}')"
   ]
  },
  {
   "cell_type": "code",
   "execution_count": 4,
   "metadata": {},
   "outputs": [
    {
     "name": "stdout",
     "output_type": "stream",
     "text": [
      "Grids created in 6.6 secs\n",
      "Solution prepared in 7.4 secs\n",
      "Solving HJB:\n",
      "    1: 84.1700730791792466\n",
      "    2: 38.2038971698338514\n",
      "    3: 31.1125314480001975\n",
      "    4: 30.4469082546748666\n",
      "    5: 20.4968912764180615\n",
      "    6: 19.4661796129954467\n",
      "    7: 15.1727371142017944\n",
      "    8: 12.9574056574936805\n",
      "    9: 11.0695151551121711\n",
      "  100: 0.0000102698259070\n",
      " converged in 3.0 mins 4 secs in iteration 146\n",
      "\n",
      "Solving KFE:\n",
      "    1: 617936907.3854777812957764\n",
      "    2: 2436369.1853132443502545\n",
      "    3: 161638.3345649561670143\n",
      "    4: 141659.3809734772657976\n",
      "    5: 51098.0943056882533710\n",
      "    6: 56267.1547527411894407\n",
      "    7: 19191.3581065573962405\n",
      "    8: 34162.1902245900710113\n",
      "    9: 15908.6761711678991560\n",
      "  100: 0.0038568567397306\n",
      " converged in 36.4 secs secs in iteration 189\n"
     ]
    }
   ],
   "source": [
    "# a. set fine grid in a dimension\n",
    "model.par.Na = 200\n",
    "model.par.KFEtol = 1e-8 # with larger (original) KFEtol, wont converge\n",
    "# b. solve for fine grid\n",
    "model.solve()\n",
    "# c. save model solution for plotting later\n",
    "model.calculate_moments(do_MPC=True)\n",
    "model_fine = model.copy()"
   ]
  },
  {
   "cell_type": "markdown",
   "metadata": {},
   "source": [
    "# Adaptive tensor product grid algorithm"
   ]
  },
  {
   "cell_type": "code",
   "execution_count": 5,
   "metadata": {},
   "outputs": [],
   "source": [
    "tol = 1e-3\n",
    "\n",
    "par = model.par\n",
    "sol = model.sol\n",
    "\n",
    "# fine indices\n",
    "grid_a = par.grid_a\n",
    "grid_ia = np.arange(par.Na,dtype=np.int64)\n",
    "grid_ia_approx = np.arange(par.Na,dtype=np.int64)\n",
    "sol_true_g =  sol.g.reshape(par.Nz,par.Na,par.Nb,order='F').copy()\n",
    "sol_approx_g = sol_true_g.copy()"
   ]
  },
  {
   "cell_type": "code",
   "execution_count": 6,
   "metadata": {},
   "outputs": [
    {
     "name": "stdout",
     "output_type": "stream",
     "text": [
      "0:     31 grids points removed, share of grid points remaining 0.8450\n",
      "1:     14 grids points removed, share of grid points remaining 0.7750\n",
      "2:      5 grids points removed, share of grid points remaining 0.7500\n",
      "3:      2 grids points removed, share of grid points remaining 0.7400\n",
      "4:      1 grids points removed, share of grid points remaining 0.7350\n",
      "5:      1 grids points removed, share of grid points remaining 0.7300\n",
      "6:      0 grids points removed, share of grid points remaining 0.7300\n"
     ]
    }
   ],
   "source": [
    "# iterate\n",
    "it = 0\n",
    "while it < 100:\n",
    "    \n",
    "    # a. number of grid points\n",
    "    Na_approx  = grid_ia_approx.size\n",
    "    \n",
    "    # b. vectors for including or not\n",
    "    Ia_approx = np.ones(Na_approx,dtype=np.bool_)  \n",
    "\n",
    "    # c. a dimension\n",
    "    for ia_ in range(1,Na_approx,2):\n",
    "        \n",
    "        if ia_ == Na_approx-1: continue # interpolation not possible\n",
    "        \n",
    "        # a. solution at fine\n",
    "        ia = grid_ia_approx[ia_]\n",
    "        true_g = sol_true_g[:,ia,:]\n",
    "        \n",
    "        # b. neighbors in adaptive\n",
    "        ia_u = grid_ia_approx[ia_+1]\n",
    "        ia_d = grid_ia_approx[ia_-1]\n",
    "        \n",
    "        # c. interpolation\n",
    "        w = (grid_a[ia_u]-grid_a[ia])/(grid_a[ia_u]-grid_a[ia_d])\n",
    "        approx_g = w*sol_true_g[:,ia_d,:] + (1-w)*sol_true_g[:,ia_u,:]\n",
    "        \n",
    "        # d. error\n",
    "        # i. replace all zeros in true g with 1 for division\n",
    "        max_abs_error_g = np.max(np.abs(true_g-approx_g))\n",
    "        Ia_approx[ia_] = True if max_abs_error_g > tol else False\n",
    "    \n",
    "    # e. update adaptive\n",
    "    grid_ia_approx = grid_ia_approx[Ia_approx]\n",
    "    \n",
    "    sol_approx_g = sol_approx_g[:,Ia_approx,:]\n",
    "\n",
    "    # f. check\n",
    "    removed = np.sum(~Ia_approx)\n",
    "    share = grid_ia_approx.size/grid_a.size\n",
    "    print(f'{it}: {removed:6d} grids points removed, share of grid points remaining {share:.4f}')\n",
    "    \n",
    "    if removed == 0: break\n",
    "    it += 1\n",
    "\n",
    "# constructive adaptive\n",
    "grid_a_approx = grid_a[grid_ia_approx]"
   ]
  },
  {
   "cell_type": "markdown",
   "metadata": {},
   "source": [
    "**Effectiveness:** We see that approx. 25% of grid points are removed."
   ]
  },
  {
   "cell_type": "code",
   "execution_count": 7,
   "metadata": {},
   "outputs": [
    {
     "name": "stdout",
     "output_type": "stream",
     "text": [
      "grids points for a-dimension is 146 [fine: 200]\n"
     ]
    }
   ],
   "source": [
    "print(f'grids points for a-dimension is {grid_a_approx.size} [fine: {grid_a.size}]')"
   ]
  },
  {
   "cell_type": "markdown",
   "metadata": {},
   "source": [
    "# Approximation error"
   ]
  },
  {
   "cell_type": "code",
   "execution_count": 8,
   "metadata": {},
   "outputs": [
    {
     "name": "stdout",
     "output_type": "stream",
     "text": [
      "max_rel_abs_error = 0.00013825\n"
     ]
    }
   ],
   "source": [
    "from consav import linear_interp\n",
    "max_rel_abs_error = -np.inf\n",
    "for iz,z in enumerate(par.grid_z):\n",
    "    for ia,a in enumerate(par.grid_a):\n",
    "        for ib,b in enumerate(par.grid_b):\n",
    "            interp = linear_interp.interp_3d(par.grid_z,grid_a_approx,par.grid_b,sol_approx_g,z,a,b) # interp 3d\n",
    "            true = sol_true_g[iz,ia,ib]\n",
    "            max_abs_error = np.fmax(max_abs_error,np.abs(true-interp))\n",
    "        \n",
    "print(f'max_abs_error = {max_abs_error:.8f}')"
   ]
  },
  {
   "cell_type": "markdown",
   "metadata": {},
   "source": [
    "**Precision:**  Slightly above the tolerance of 1e-4."
   ]
  },
  {
   "cell_type": "markdown",
   "metadata": {},
   "source": [
    "# Figures"
   ]
  },
  {
   "cell_type": "markdown",
   "metadata": {},
   "source": [
    "**Re-solve model for small grid**"
   ]
  },
  {
   "cell_type": "code",
   "execution_count": 9,
   "metadata": {},
   "outputs": [
    {
     "name": "stdout",
     "output_type": "stream",
     "text": [
      "Grids created in 0.6 secs\n",
      "Solution prepared in 1.2 secs\n",
      "Solving HJB:\n",
      "    1: 83.8807345384069833\n",
      "    2: 38.0853972372683458\n",
      "    3: 27.1151179317545967\n",
      "    4: 26.0292682217941049\n",
      "    5: 17.8540390373212361\n",
      "    6: 15.6464877135149152\n",
      "    7: 12.4123655102504742\n",
      "    8: 10.2403258441089378\n",
      "    9: 8.5172692081187904\n",
      "  100: 0.0000041372136081\n",
      " converged in 1.0 mins 51 secs in iteration 140\n",
      "\n",
      "Solving KFE:\n",
      "    1: 617936799.6630458831787109\n",
      "    2: 2435992.0114754019305110\n",
      "    3: 161654.7429680802742951\n",
      "    4: 141654.5961802582314704\n",
      "    5: 51080.6821092391037382\n",
      "    6: 56175.0528414212749340\n",
      "    7: 19158.4921432626433671\n",
      "    8: 34114.9938619555614423\n",
      "    9: 15897.8865229056973476\n",
      "  100: 0.0039388089062413\n",
      "  200: 0.0000000123419595\n",
      " converged in 22.8 secs secs in iteration 204\n"
     ]
    }
   ],
   "source": [
    "# a. set reduced grid in a dimension\n",
    "model.par.Na = grid_a_approx.size\n",
    "# b. solve for fine grid\n",
    "model.solve(load_grid=True,grid_a=grid_a_approx)\n",
    "# c. save for plotting\n",
    "model.calculate_moments(do_MPC=True)\n",
    "model_small = model.copy()"
   ]
  },
  {
   "cell_type": "markdown",
   "metadata": {},
   "source": [
    "**Plot comparison, tol = 1e-4**"
   ]
  },
  {
   "cell_type": "code",
   "execution_count": 10,
   "metadata": {},
   "outputs": [
    {
     "name": "stdout",
     "output_type": "stream",
     "text": [
      "AY with a fine grid: 4.06214375\n",
      "AY with a small grid: 3.11877252\n",
      "Avg. MPC with a fine grid: 0.15434148\n",
      "Avg. MPC with a small grid: 0.15940195\n"
     ]
    },
    {
     "data": {
      "image/png": "[encoded data removed]",
      "text/plain": [
       "<Figure size 864x432 with 2 Axes>"
      ]
     },
     "metadata": {
      "needs_background": "light"
     },
     "output_type": "display_data"
    }
   ],
   "source": [
    "fig = plt.figure(figsize=(12,6))\n",
    "\n",
    "ax = fig.add_subplot(2,2,1)\n",
    "ax.set_xscale('symlog')\n",
    "ax.plot(model_fine.par.grid_a*100,model_fine.moms['a_margcum'])\n",
    "ax.plot(model_small.par.grid_a*100,model_small.moms['a_margcum'])\n",
    "ax.set_xlabel('$100 \\cdot a_t$')\n",
    "ax.set_ylabel(f'CDF')\n",
    "ax.set_ylim([-0.01,1.01])\n",
    "ax.legend(['Fine','Small'],frameon=True)\n",
    "\n",
    "ax = fig.add_subplot(2,2,2)\n",
    "ax.set_xscale('symlog')\n",
    "ax.plot(model_fine.par.grid_b*100,model_fine.moms['b_margcum'])\n",
    "ax.plot(model_small.par.grid_b*100,model_small.moms['b_margcum'])\n",
    "ax.set_xlabel('$100 \\cdot b_t$')\n",
    "ax.set_ylabel(f'CDF')\n",
    "ax.set_ylim([-0.01,1.01])\n",
    "ax.legend(['Fine','Small'],frameon=True)\n",
    "\n",
    "print(f\"AY with a fine grid: {model_fine.moms['AY']:.8f}\")\n",
    "print(f\"AY with a small grid: {model_small.moms['AY']:.8f}\")\n",
    "\n",
    "print(f\"Avg. MPC with a fine grid: {model_fine.moms['MPC']:.8f}\")\n",
    "print(f\"Avg. MPC with a small grid: {model_small.moms['MPC']:.8f}\")"
   ]
  }
 ],
 "metadata": {
  "kernelspec": {
   "display_name": "Python 3",
   "language": "python",
   "name": "python3"
  },
  "language_info": {
   "codemirror_mode": {
    "name": "ipython",
    "version": 3
   },
   "file_extension": ".py",
   "mimetype": "text/x-python",
   "name": "python",
   "nbconvert_exporter": "python",
   "pygments_lexer": "ipython3",
   "version": "3.7.3"
  },
  "toc-autonumbering": true
 },
 "nbformat": 4,
 "nbformat_minor": 4
}
