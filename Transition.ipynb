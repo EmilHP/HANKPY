{
 "cells": [
  {
   "cell_type": "markdown",
   "metadata": {},
   "source": [
    "# Setup"
   ]
  },
  {
   "cell_type": "code",
   "execution_count": 1,
   "metadata": {},
   "outputs": [],
   "source": [
    "import time\n",
    "import numpy as np\n",
    "from scipy.io import savemat\n",
    "from scipy import optimize\n",
    "from matplotlib import pyplot as plt\n",
    "\n",
    "%load_ext autoreload\n",
    "%autoreload 2\n",
    "\n",
    "from TwoAssetModelCont import TwoAssetModelContClass"
   ]
  },
  {
   "cell_type": "markdown",
   "metadata": {},
   "source": [
    "# Find transition path"
   ]
  },
  {
   "cell_type": "markdown",
   "metadata": {},
   "source": [
    "**Setup model:**"
   ]
  },
  {
   "cell_type": "code",
   "execution_count": 2,
   "metadata": {},
   "outputs": [
    {
     "name": "stdout",
     "output_type": "stream",
     "text": [
      "model created in 11.8 secs\n"
     ]
    }
   ],
   "source": [
    "t0 = time.time()\n",
    "model = TwoAssetModelContClass(name='HANK',like_HANK=True)\n",
    "print(f'model created in {time.time()-t0:.1f} secs')"
   ]
  },
  {
   "cell_type": "markdown",
   "metadata": {},
   "source": [
    "**Solve $\\rho$ shock path with perfect competition:**"
   ]
  },
  {
   "cell_type": "code",
   "execution_count": 3,
   "metadata": {},
   "outputs": [
    {
     "name": "stdout",
     "output_type": "stream",
     "text": [
      "Solving initial s.s.\n",
      "  1: KN = 33.22430956\n",
      "    implied ra = 0.0141\n",
      "    implied w = 2.1289\n",
      "    implied KN = 33.2245 [-0.00000588]\n",
      "    time: 40.1 secs\n",
      "\n",
      "equilibrium found in 51.5 secs\n",
      " ra = 0.01406011\n",
      " w = 2.12890004\n",
      "Solving terminal s.s.\n",
      "  1: KN = 31.45765379\n",
      "    implied ra = 0.0152\n",
      "    implied w = 2.0909\n",
      "    implied KN = 31.4578 [-0.00000589]\n",
      "    time: 24.2 secs\n",
      "\n",
      "equilibrium found in 35.0 secs\n",
      " ra = 0.01523688\n",
      " w = 2.09085777\n",
      "Solving transition path\n",
      "Current iteration = 1, max difference = 0.37996829\n",
      "Current iteration = 2, max difference = 0.33967944\n",
      "Current iteration = 3, max difference = 0.30476879\n",
      "Current iteration = 4, max difference = 0.27346975\n",
      "Current iteration = 5, max difference = 0.24535895\n",
      "Current iteration = 6, max difference = 0.22012531\n",
      "Current iteration = 7, max difference = 0.19743595\n",
      "Current iteration = 8, max difference = 0.17707207\n",
      "Current iteration = 9, max difference = 0.15880294\n",
      "Current iteration = 10, max difference = 0.14242365\n",
      "Current iteration = 11, max difference = 0.12773651\n",
      "Current iteration = 12, max difference = 0.11447681\n",
      "Current iteration = 13, max difference = 0.10257900\n",
      "Current iteration = 14, max difference = 0.09192985\n",
      "Current iteration = 15, max difference = 0.08239755\n",
      "Current iteration = 16, max difference = 0.07386000\n",
      "Current iteration = 17, max difference = 0.06621156\n",
      "Current iteration = 18, max difference = 0.05935775\n",
      "Current iteration = 19, max difference = 0.05321576\n",
      "Current iteration = 20, max difference = 0.04771162\n",
      "Current iteration = 21, max difference = 0.04277330\n",
      "Current iteration = 22, max difference = 0.03834606\n",
      "Current iteration = 23, max difference = 0.03437474\n",
      "Current iteration = 24, max difference = 0.03081547\n",
      "Current iteration = 25, max difference = 0.02762637\n",
      "Current iteration = 26, max difference = 0.02476740\n",
      "Current iteration = 27, max difference = 0.02220404\n",
      "Current iteration = 28, max difference = 0.01990569\n",
      "Current iteration = 29, max difference = 0.01784493\n",
      "Current iteration = 30, max difference = 0.01599716\n",
      "Current iteration = 31, max difference = 0.01434037\n",
      "Current iteration = 32, max difference = 0.01285474\n",
      "Current iteration = 33, max difference = 0.01152247\n",
      "Current iteration = 34, max difference = 0.01032783\n",
      "Current iteration = 35, max difference = 0.00925672\n",
      "Current iteration = 36, max difference = 0.00829631\n",
      "Current iteration = 37, max difference = 0.00743528\n",
      "Current iteration = 38, max difference = 0.00666331\n",
      "Current iteration = 39, max difference = 0.00597115\n",
      "Current iteration = 40, max difference = 0.00535060\n",
      "Current iteration = 41, max difference = 0.00479425\n",
      "Current iteration = 42, max difference = 0.00429546\n",
      "Current iteration = 43, max difference = 0.00384831\n",
      "Current iteration = 44, max difference = 0.00344748\n",
      "Current iteration = 45, max difference = 0.00308821\n",
      "Current iteration = 46, max difference = 0.00276619\n",
      "Current iteration = 47, max difference = 0.00247757\n",
      "Current iteration = 48, max difference = 0.00221890\n",
      "Current iteration = 49, max difference = 0.00198710\n",
      "Current iteration = 50, max difference = 0.00177937\n",
      "Current iteration = 51, max difference = 0.00159324\n",
      "Current iteration = 52, max difference = 0.00142646\n",
      "Current iteration = 53, max difference = 0.00127705\n",
      "Current iteration = 54, max difference = 0.00114319\n",
      "Current iteration = 55, max difference = 0.00102327\n",
      "Current iteration = 56, max difference = 0.00091586\n",
      "Current iteration = 57, max difference = 0.00081965\n",
      "Current iteration = 58, max difference = 0.00073349\n",
      "Current iteration = 59, max difference = 0.00065632\n",
      "Current iteration = 60, max difference = 0.00058722\n",
      "Current iteration = 61, max difference = 0.00052535\n",
      "Current iteration = 62, max difference = 0.00046996\n",
      "Current iteration = 63, max difference = 0.00042036\n",
      "Current iteration = 64, max difference = 0.00037597\n",
      "Current iteration = 65, max difference = 0.00033623\n",
      "Current iteration = 66, max difference = 0.00030066\n",
      "Current iteration = 67, max difference = 0.00026883\n",
      "Current iteration = 68, max difference = 0.00024035\n",
      "Current iteration = 69, max difference = 0.00021486\n",
      "Current iteration = 70, max difference = 0.00019206\n",
      "Current iteration = 71, max difference = 0.00017166\n",
      "Current iteration = 72, max difference = 0.00015341\n",
      "Current iteration = 73, max difference = 0.00013709\n",
      "Current iteration = 74, max difference = 0.00012249\n",
      "Current iteration = 75, max difference = 0.00010943\n",
      "Current iteration = 76, max difference = 0.00009776\n",
      "Current iteration = 77, max difference = 0.00008732\n",
      "Current iteration = 78, max difference = 0.00007799\n",
      "Current iteration = 79, max difference = 0.00006964\n",
      "Current iteration = 80, max difference = 0.00006219\n",
      "Current iteration = 81, max difference = 0.00005552\n",
      "Current iteration = 82, max difference = 0.00004956\n",
      "Current iteration = 83, max difference = 0.00004424\n",
      "Current iteration = 84, max difference = 0.00003949\n",
      "Current iteration = 85, max difference = 0.00003524\n",
      "Current iteration = 86, max difference = 0.00003144\n",
      "Current iteration = 87, max difference = 0.00002805\n",
      "Current iteration = 88, max difference = 0.00002503\n",
      "Current iteration = 89, max difference = 0.00002232\n",
      "Current iteration = 90, max difference = 0.00001991\n",
      "Current iteration = 91, max difference = 0.00001776\n",
      "Current iteration = 92, max difference = 0.00001583\n",
      "Current iteration = 93, max difference = 0.00001411\n",
      "Current iteration = 94, max difference = 0.00001258\n",
      "Current iteration = 95, max difference = 0.00001121\n",
      "Convergence achieved in iteration = 96\n"
     ]
    }
   ],
   "source": [
    "KN_path = model.transition()"
   ]
  },
  {
   "cell_type": "code",
   "execution_count": 4,
   "metadata": {},
   "outputs": [
    {
     "data": {
      "text/plain": [
       "[<matplotlib.lines.Line2D at 0x1e81b6773c8>]"
      ]
     },
     "execution_count": 4,
     "metadata": {},
     "output_type": "execute_result"
    },
    {
     "data": {
      "image/png": "[encoded data removed]",
      "text/plain": [
       "<Figure size 432x288 with 1 Axes>"
      ]
     },
     "metadata": {
      "needs_background": "light"
     },
     "output_type": "display_data"
    }
   ],
   "source": [
    "from matplotlib import pyplot as plt\n",
    "plt.plot(model.sol.KN_path_new)"
   ]
  }
 ],
 "metadata": {
  "kernelspec": {
   "display_name": "Python 3",
   "language": "python",
   "name": "python3"
  },
  "language_info": {
   "codemirror_mode": {
    "name": "ipython",
    "version": 3
   },
   "file_extension": ".py",
   "mimetype": "text/x-python",
   "name": "python",
   "nbconvert_exporter": "python",
   "pygments_lexer": "ipython3",
   "version": "3.7.3"
  },
  "toc-autonumbering": true
 },
 "nbformat": 4,
 "nbformat_minor": 4
}
