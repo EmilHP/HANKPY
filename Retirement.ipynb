{
 "cells": [
  {
   "cell_type": "markdown",
   "metadata": {},
   "source": [
    "# Setup"
   ]
  },
  {
   "cell_type": "code",
   "execution_count": 1,
   "metadata": {},
   "outputs": [],
   "source": [
    "import time\n",
    "import numpy as np\n",
    "from scipy.io import savemat\n",
    "from scipy import optimize\n",
    "\n",
    "%load_ext autoreload\n",
    "%autoreload 2\n",
    "\n",
    "from TwoAssetModelCont import TwoAssetModelContClass"
   ]
  },
  {
   "cell_type": "markdown",
   "metadata": {},
   "source": [
    "# Solve"
   ]
  },
  {
   "cell_type": "code",
   "execution_count": 122,
   "metadata": {},
   "outputs": [
    {
     "name": "stdout",
     "output_type": "stream",
     "text": [
      "0.029250814505114797\n",
      "0.0188044293898334\n",
      "0.012862100674384869\n",
      "0.009474787416612562\n",
      "0.007536899353797977\n",
      "0.006421290022640691\n",
      "0.0057722090699456885\n",
      "0.005387855460414093\n",
      "0.0022820195006587607\n",
      "0.0008179280865119876\n",
      "0.00025420932139008645\n",
      "7.210272977181686e-05\n",
      "1.9457930987454297e-05\n",
      "5.246042584727828e-06\n",
      "1.5687035213041156e-06\n",
      "8.993530429325138e-07\n",
      "8.992721048374204e-07\n",
      "8.991911740262142e-07\n",
      "8.991102504987865e-07\n",
      "8.990293342539448e-07\n",
      "8.989484252912554e-07\n",
      "8.988675236096342e-07\n",
      "8.987866292095147e-07\n",
      "8.987057420889455e-07\n",
      "8.986248622483602e-07\n",
      "8.985439896866745e-07\n",
      "8.984631244034549e-07\n",
      "8.983822663971835e-07\n"
     ]
    },
    {
     "data": {
      "text/plain": [
       "<matplotlib.image.AxesImage at 0x1cae65924e0>"
      ]
     },
     "execution_count": 122,
     "metadata": {},
     "output_type": "execute_result"
    },
    {
     "data": {
      "image/png": "[encoded data removed]",
      "text/plain": [
       "<Figure size 432x288 with 1 Axes>"
      ]
     },
     "metadata": {
      "needs_background": "light"
     },
     "output_type": "display_data"
    }
   ],
   "source": [
    "import income_process\n",
    "model.par.Lambda = 0.000001\n",
    "grid_z_log,_,z_markov,z_dist = income_process.construct_jump_drift(model.par,retirement=True)   \n",
    "from matplotlib import pyplot as plt\n",
    "plt.spy(z_markov)"
   ]
  },
  {
   "cell_type": "code",
   "execution_count": 125,
   "metadata": {},
   "outputs": [
    {
     "name": "stdout",
     "output_type": "stream",
     "text": [
      "0.029249957754073574\n",
      "0.018803595789835925\n",
      "0.01286128107969875\n",
      "0.009473977899433605\n",
      "0.007536098382092571\n",
      "0.006420497103528655\n",
      "0.0057714241187011295\n",
      "0.005387078521123745\n",
      "0.0022816916461373404\n",
      "0.0008176732416605992\n",
      "0.0002539207213324013\n",
      "7.178508065169842e-05\n",
      "1.9126916663669835e-05\n",
      "4.91013206221913e-06\n",
      "1.231214746599818e-06\n",
      "3.041469155973253e-07\n",
      "7.441823357545729e-08\n",
      "1.809687688592021e-08\n",
      "4.383314100575575e-09\n",
      "1.058970966472117e-09\n",
      "2.5541124770711576e-10\n",
      "6.153533238517639e-11\n",
      "1.4814982574051783e-11\n",
      "3.5651481766763027e-12\n",
      "8.575917753717022e-13\n",
      "2.0622392682412283e-13\n",
      "4.96269692007445e-14\n",
      "1.1934897514720433e-14\n"
     ]
    },
    {
     "data": {
      "text/plain": [
       "<matplotlib.image.AxesImage at 0x1ca813a33c8>"
      ]
     },
     "execution_count": 125,
     "metadata": {},
     "output_type": "execute_result"
    },
    {
     "data": {
      "image/png": "[encoded data removed]",
      "text/plain": [
       "<Figure size 432x288 with 1 Axes>"
      ]
     },
     "metadata": {
      "needs_background": "light"
     },
     "output_type": "display_data"
    }
   ],
   "source": [
    "import income_process\n",
    "model.par.Lambda = 0.000000001\n",
    "grid_z_log,_,z_markov,z_dist = income_process.construct_jump_drift(model.par,retirement=False)   \n",
    "from matplotlib import pyplot as plt\n",
    "plt.spy(z_markov)"
   ]
  },
  {
   "cell_type": "markdown",
   "metadata": {},
   "source": [
    "**Setup model:**"
   ]
  },
  {
   "cell_type": "code",
   "execution_count": 121,
   "metadata": {},
   "outputs": [
    {
     "name": "stdout",
     "output_type": "stream",
     "text": [
      "model created in 14.5 secs\n"
     ]
    }
   ],
   "source": [
    "t0 = time.time()\n",
    "model = TwoAssetModelContClass(name='HANK',like_HANK=True)\n",
    "print(f'model created in {time.time()-t0:.1f} secs')"
   ]
  },
  {
   "cell_type": "markdown",
   "metadata": {},
   "source": [
    "**Solve with retirement:**"
   ]
  },
  {
   "cell_type": "code",
   "execution_count": 92,
   "metadata": {},
   "outputs": [
    {
     "name": "stdout",
     "output_type": "stream",
     "text": [
      "Grids created in 0.1 secs\n",
      "Solution prepared in 0.1 secs\n",
      "Solving HJB:\n",
      "    1: 117.8144747225041300\n",
      "    2: 49.0445929930701681\n",
      "    3: 69.6143128762412289\n",
      "    4: 39.7430862939439464\n",
      "    5: 19.8699950716873666\n",
      "    6: 18.3483870806644802\n",
      "    7: 14.4488635850775893\n",
      "    8: 12.1959032624961168\n",
      "    9: 10.3562528189662686\n",
      "  100: 0.0000064152776247\n",
      " converged in 19.8 secs in iteration 142\n",
      "\n",
      "Solving KFE:\n",
      "    1: 3055.5286065900036192\n",
      "    2: 4010.0301257666360470\n",
      "    3: 981.9320363615679526\n",
      "    4: 622.3980845198666429\n",
      "    5: 437.9248080798693081\n",
      "    6: 271.4481275760176686\n",
      "    7: 219.7904442653152728\n",
      "    8: 138.2872553065483316\n",
      "    9: 114.4652011813784611\n",
      "  100: 0.1287233754559338\n",
      "  200: 0.0003977072979069\n",
      "  300: 0.0000012287401887\n",
      "  400: 0.0000000037965719\n",
      "  500: 0.0000000000117097\n",
      " converged in 18.3 secs secs in iteration 543\n"
     ]
    }
   ],
   "source": [
    "model.par.Lambda = 0.00001\n",
    "model.solve(retirement=True)"
   ]
  },
  {
   "cell_type": "code",
   "execution_count": 93,
   "metadata": {},
   "outputs": [
    {
     "name": "stdout",
     "output_type": "stream",
     "text": [
      "Equilibrium objects:\n",
      " rb: 0.0050\n",
      " ra: 0.0142\n",
      " w: 1.814\n",
      " Pi: 0.171\n",
      " capital-labor discrepancy: -0.01293905\n",
      "Profit discrepancy: 0.01563182\n",
      "\n",
      "Aggregates:\n",
      " GDP: 1.736\n",
      " capital-labor ratio: 28.534\n",
      " capital-output ratio: 2.361\n",
      " bond-output ratio: 0.232\n",
      "\n",
      "Fractions:\n",
      " poor HtM: 0.128 [0.128, 0.171]\n",
      " wealthy HtM: 0.185 [0.185, 0.280]\n",
      " borrowers: 0.144 [0.144, 0.131]\n",
      "\n",
      "Iliquid wealth:\n",
      " top   0.1: 0.570\n",
      " top     1: 0.641\n",
      " top    10: 0.908\n",
      " bottom 50: 0.001\n",
      " bottom 25: 0.000\n",
      " gini: -1.250\n",
      "\n",
      "Liquid wealth:\n",
      " top   0.1: 0.326\n",
      " top     1: 0.408\n",
      " top    10: 0.809\n",
      " bottom 50: -0.032\n",
      " bottom 25: -0.032\n",
      " gini: 0.371\n",
      "\n",
      "Consumption: average = 1.143, gini = -0.690\n",
      "Value: average = -22.143\n"
     ]
    }
   ],
   "source": [
    "model.show_moments()"
   ]
  },
  {
   "cell_type": "markdown",
   "metadata": {},
   "source": [
    "**Results:**"
   ]
  },
  {
   "cell_type": "code",
   "execution_count": 24,
   "metadata": {},
   "outputs": [
    {
     "name": "stdout",
     "output_type": "stream",
     "text": [
      "Equilibrium objects:\n",
      " rb: 0.0050\n",
      " ra: 0.0142\n",
      " w: 1.814\n",
      " Pi: 0.171\n",
      " capital-labor discrepancy: 0.00663743\n",
      "Profit discrepancy: 0.01549733\n",
      "\n",
      "Aggregates:\n",
      " GDP: 1.736\n",
      " capital-labor ratio: 27.980\n",
      " capital-output ratio: 2.330\n",
      " bond-output ratio: 0.219\n",
      "\n",
      "Fractions:\n",
      " poor HtM: 0.091 [0.091, 0.133]\n",
      " wealthy HtM: 0.169 [0.169, 0.261]\n",
      " borrowers: 0.169 [0.169, 0.152]\n",
      "\n",
      "Iliquid wealth:\n",
      " top   0.1: 0.072\n",
      " top     1: 0.410\n",
      " top    10: 0.878\n",
      " bottom 50: 0.001\n",
      " bottom 25: 0.000\n",
      " gini: 0.820\n",
      "\n",
      "Liquid wealth:\n",
      " top   0.1: 0.025\n",
      " top     1: 0.195\n",
      " top    10: 0.774\n",
      " bottom 50: -0.038\n",
      " bottom 25: -0.039\n",
      " gini: 0.880\n",
      "\n",
      "Consumption: average = 1.143, gini = 0.310\n",
      "Value: average = -19.299\n"
     ]
    }
   ],
   "source": [
    "model.show_moments()"
   ]
  }
 ],
 "metadata": {
  "kernelspec": {
   "display_name": "Python 3",
   "language": "python",
   "name": "python3"
  },
  "language_info": {
   "codemirror_mode": {
    "name": "ipython",
    "version": 3
   },
   "file_extension": ".py",
   "mimetype": "text/x-python",
   "name": "python",
   "nbconvert_exporter": "python",
   "pygments_lexer": "ipython3",
   "version": "3.7.3"
  },
  "toc-autonumbering": true
 },
 "nbformat": 4,
 "nbformat_minor": 4
}
