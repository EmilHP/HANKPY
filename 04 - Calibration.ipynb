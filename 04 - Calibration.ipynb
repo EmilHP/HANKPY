{
 "cells": [
  {
   "cell_type": "markdown",
   "metadata": {},
   "source": [
    "# Setup"
   ]
  },
  {
   "cell_type": "code",
   "execution_count": 1,
   "metadata": {},
   "outputs": [],
   "source": [
    "from consav.runtools import write_numba_config\n",
    "write_numba_config(disable=0,threads=20,threading_layer='omp')"
   ]
  },
  {
   "cell_type": "code",
   "execution_count": 2,
   "metadata": {},
   "outputs": [],
   "source": [
    "import os\n",
    "import time\n",
    "import numpy as np\n",
    "\n",
    "%load_ext autoreload\n",
    "%autoreload 2\n",
    "\n",
    "import matplotlib.pyplot as plt\n",
    "plt.style.use('seaborn-whitegrid')\n",
    "colors = [x['color'] for x in plt.style.library['seaborn']['axes.prop_cycle']]\n",
    "markers = ['s','P','D','v','^','*']\n",
    "\n",
    "from consav.misc import elapsed\n",
    "from TwoAssetModelCont import TwoAssetModelContClass"
   ]
  },
  {
   "cell_type": "code",
   "execution_count": 3,
   "metadata": {},
   "outputs": [],
   "source": [
    "LOAD_HANK = True\n",
    "LOAD = True"
   ]
  },
  {
   "cell_type": "markdown",
   "metadata": {},
   "source": [
    "# Calibration function"
   ]
  },
  {
   "cell_type": "code",
   "execution_count": 4,
   "metadata": {},
   "outputs": [],
   "source": [
    "def setup_calibration(model):\n",
    "    \n",
    "    par = model.par\n",
    "    \n",
    "    # a. targets\n",
    "    model.targets = {}\n",
    "    model.targets['AY'] = 2.92\n",
    "    model.targets['BY'] = 0.26\n",
    "    model.targets[('frac_b0_a0','baseline')] = 0.10\n",
    "    model.targets[('frac_b0_apos','baseline')] = 0.20\n",
    "    model.targets[('frac_bneg','baseline')] = 0.15\n",
    "    \n",
    "    model.labels = {}\n",
    "    model.labels['AY'] = 'capital/output'\n",
    "    model.labels['BY'] = 'bond/output'\n",
    "    model.labels[('frac_b0_a0','baseline')] = 'poor HtM'\n",
    "    model.labels[('frac_b0_apos','baseline')] = 'wealthy HtM'\n",
    "    model.labels[('frac_bneg','baseline')] = 'borrowers'\n",
    "    \n",
    "    # b. parameters\n",
    "    model.names = ['kappa','kappa0','kappa1','kappa2','rho','Pi']\n",
    "    model.specs = {}\n",
    "    model.specs['kappa'] = {'initial':par.kappa,'lower':0,'upper':0.1,'label':'$\\\\kappa$'}\n",
    "    model.specs['kappa0'] = {'initial':par.kappa0,'lower':0,'upper':0.1,'label':'$\\\\kappa_0$'}\n",
    "    model.specs['kappa1'] = {'initial':par.kappa1,'lower':0,'upper':1,'label':'$\\\\kappa_1$'}\n",
    "    model.specs['kappa2'] = {'initial':par.kappa2,'lower':0.1,'upper':2.0,'label':'$\\\\kappa_2$'}\n",
    "    model.specs['rho'] = {'initial':par.rho,'lower':0.01,'upper':0.02,'label':'$\\\\rho$'}\n",
    "    model.specs['Pi'] = {'initial':par.Pi,'lower':0.01,'upper':0.50,'label':'$\\\\Pi$'}\n",
    "\n",
    "    # c. update func\n",
    "    def extra_update(model):\n",
    "\n",
    "        par = model.par\n",
    "\n",
    "        # a. KY and KN\n",
    "        AY = model['AY']\n",
    "        a = -par.delta*par.vareps\n",
    "        b = par.alpha*(par.vareps-1) + par.delta*par.vareps*AY+par.omega\n",
    "        c = -par.alpha*(par.vareps-1)*AY    \n",
    "        KY = (-b+np.sqrt(b**2-4*a*c))/(2*a)\n",
    "        KN = KY**(1/(1-par.alpha))\n",
    "\n",
    "        # b. factor prices\n",
    "        par.ra = par.alpha*m/(KN**(1-par.alpha)) - par.delta\n",
    "        par.w = (1-par.alpha)*m*KN**par.alpha\n",
    "\n",
    "        # c. set relative parameters\n",
    "        Y = par.Pi*par.vareps\n",
    "        par.kappa3 = 0.02*Y # 2 percent of quarterly GDP\n",
    "        par.lumpsum_transfer = 0.10*Y # 10 percent of quarterly GDP\n",
    "        par.b_min = -1*par.w # 1 times quarterly labor income\n",
    "\n",
    "    model.extra_update = extra_update"
   ]
  },
  {
   "cell_type": "markdown",
   "metadata": {},
   "source": [
    "# HANK calibration"
   ]
  },
  {
   "cell_type": "code",
   "execution_count": 5,
   "metadata": {},
   "outputs": [],
   "source": [
    "if LOAD_HANK and os.path.isfile(f'data\\HANK_calibration_UMFPACK_par.p'):\n",
    "    HANK = TwoAssetModelContClass(name='HANK_calibration',load=True)\n",
    "    setup_calibration(HANK)\n",
    "    HANK.calculate_moments(do_MPC=True)\n",
    "else:\n",
    "    HANK = TwoAssetModelContClass(name='HANK_calibration')\n",
    "    setup_calibration(HANK)\n",
    "    HANK.calibrate()\n",
    "    HANK.save()"
   ]
  },
  {
   "cell_type": "code",
   "execution_count": 6,
   "metadata": {},
   "outputs": [
    {
     "name": "stdout",
     "output_type": "stream",
     "text": [
      "Equilibrium objects:\n",
      " rb: 0.0050\n",
      " ra: 0.0142\n",
      " w: 1.814\n",
      " Pi: 0.174\n",
      " capital-labor discrepancy: 0.00044345\n",
      " profit discrepancy: -0.00000432\n",
      "\n",
      "Aggregates:\n",
      " GDP: 1.739\n",
      " capital-labor ratio: 28.153\n",
      " capital-output ratio: 2.339\n",
      " bond-output ratio: 0.232\n",
      "\n",
      "Fractions:\n",
      " poor HtM: 0.101 [0.101, 0.145]\n",
      " wealthy HtM: 0.185 [0.185, 0.283]\n",
      " borrowers: 0.143 [0.143, 0.129]\n",
      "\n",
      "Iliquid wealth:\n",
      " top   0.1: 0.071\n",
      " top     1: 0.405\n",
      " top    10: 0.875\n",
      " bottom 50: 0.001\n",
      " bottom 25: 0.000\n",
      " gini: 0.819\n",
      "\n",
      "Liquid wealth:\n",
      " top   0.1: 0.024\n",
      " top     1: 0.182\n",
      " top    10: 0.749\n",
      " bottom 50: -0.031\n",
      " bottom 25: -0.031\n",
      " gini: 0.860\n",
      "\n",
      "MPC: 0.157\n",
      "Consumption: avarage = 1.147, gini = 0.311\n",
      "Value: avarage = -18.902\n"
     ]
    }
   ],
   "source": [
    "HANK.show_moments()"
   ]
  },
  {
   "cell_type": "markdown",
   "metadata": {},
   "source": [
    "# Calibration with dense grids"
   ]
  },
  {
   "cell_type": "code",
   "execution_count": 7,
   "metadata": {},
   "outputs": [],
   "source": [
    "if LOAD and os.path.isfile(f'data\\calibration_UMFPACK_par.p'):\n",
    "\n",
    "    model = TwoAssetModelContClass(name='calibration',load=True)\n",
    "    setup_calibration(model)\n",
    "    model.calculate_moments(do_MPC=True)\n",
    "    \n",
    "else:\n",
    "    \n",
    "    # a. setup\n",
    "    model = TwoAssetModelContClass(name='calibration')\n",
    "\n",
    "    # b. denser grids\n",
    "    model.par.Na = 200\n",
    "    model.par.Nb_neg = 30\n",
    "    model.par.Nb_pos = 60\n",
    "\n",
    "    # c. calibrate\n",
    "    setup_calibration(model)\n",
    "    model.calibrate()\n",
    "    \n",
    "    # e. save\n",
    "    model.save()"
   ]
  },
  {
   "cell_type": "code",
   "execution_count": 8,
   "metadata": {},
   "outputs": [
    {
     "name": "stdout",
     "output_type": "stream",
     "text": [
      "Equilibrium objects:\n",
      " rb: 0.0050\n",
      " ra: 0.0142\n",
      " w: 1.814\n",
      " Pi: 0.173\n",
      " capital-labor discrepancy: -0.00042899\n",
      " profit discrepancy: 0.00018067\n",
      "\n",
      "Aggregates:\n",
      " GDP: 1.728\n",
      " capital-labor ratio: 28.177\n",
      " capital-output ratio: 2.341\n",
      " bond-output ratio: 0.185\n",
      "\n",
      "Fractions:\n",
      " poor HtM: 0.002 [0.135, 0.146]\n",
      " wealthy HtM: 0.261 [0.231, 0.289]\n",
      " borrowers: 0.341 [0.245, 0.184]\n",
      "\n",
      "Iliquid wealth:\n",
      " top   0.1: 0.065\n",
      " top     1: 0.304\n",
      " top    10: 0.826\n",
      " bottom 50: 0.001\n",
      " bottom 25: 0.000\n",
      " gini: 0.873\n",
      "\n",
      "Liquid wealth:\n",
      " top   0.1: 0.028\n",
      " top     1: 0.198\n",
      " top    10: 0.781\n",
      " bottom 50: -0.052\n",
      " bottom 25: -0.052\n",
      " gini: 0.917\n",
      "\n",
      "MPC: 0.170\n",
      "Consumption: avarage = 1.135, gini = 0.298\n",
      "Value: avarage = -16.776\n"
     ]
    }
   ],
   "source": [
    "model.show_moments()"
   ]
  },
  {
   "cell_type": "markdown",
   "metadata": {},
   "source": [
    "## Compare parameters"
   ]
  },
  {
   "cell_type": "code",
   "execution_count": 9,
   "metadata": {},
   "outputs": [
    {
     "name": "stdout",
     "output_type": "stream",
     "text": [
      "kappa\n",
      "     HANK: 0.01520333\n",
      " baseline: 0.01476019\n",
      "kappa0\n",
      "     HANK: 0.04320631\n",
      " baseline: 0.04504896\n",
      "kappa1\n",
      "     HANK: 0.48085145\n",
      " baseline: 0.47002145\n",
      "kappa2\n",
      "     HANK: 0.40539251\n",
      " baseline: 0.39534711\n",
      "rho\n",
      "     HANK: 0.01273509\n",
      " baseline: 0.01354950\n",
      "Pi\n",
      "     HANK: 0.17389044\n",
      " baseline: 0.17279941\n"
     ]
    }
   ],
   "source": [
    "for name in model.names:\n",
    "    \n",
    "    print(name)\n",
    "    print(f'     HANK: {getattr(HANK.par,name):.8f}')\n",
    "    print(f' baseline: {getattr(model.par,name):.8f}')"
   ]
  },
  {
   "cell_type": "markdown",
   "metadata": {},
   "source": [
    "# Comparisons"
   ]
  },
  {
   "cell_type": "markdown",
   "metadata": {},
   "source": [
    "**Model labels:**"
   ]
  },
  {
   "cell_type": "code",
   "execution_count": 10,
   "metadata": {},
   "outputs": [],
   "source": [
    "HANK.label = 'HANK'\n",
    "model.label = 'dense'"
   ]
  },
  {
   "cell_type": "markdown",
   "metadata": {},
   "source": [
    "**Calbiration results:**"
   ]
  },
  {
   "cell_type": "code",
   "execution_count": 11,
   "metadata": {},
   "outputs": [],
   "source": [
    "with open(f'figs\\\\calibration_results_pars.tex','w') as file:\n",
    "    \n",
    "    file.write(f'\\\\begin{{tabular}}{{lcc}} \\n')\n",
    "    file.write(f'\\\\toprule \\n')\n",
    "    file.write(f'Parameter')    \n",
    "    for m in [HANK,model]:\n",
    "        file.write(f' & {m.label}')        \n",
    "    file.write('\\\\\\\\\\n')\n",
    "    file.write('\\\\midrule \\n')\n",
    "    \n",
    "    for name in HANK.names:\n",
    "        file.write(f' {HANK.specs[name][\"label\"]} & {getattr(HANK.par,name):.4f} & {getattr(model.par,name):.4f} \\\\\\\\ \\n')\n",
    "    \n",
    "    file.write('\\\\bottomrule\\n')\n",
    "    file.write('\\\\end{tabular}\\n')"
   ]
  },
  {
   "cell_type": "code",
   "execution_count": 12,
   "metadata": {},
   "outputs": [],
   "source": [
    "with open(f'figs\\\\calibration_results_moms.tex','w') as file:\n",
    "    \n",
    "    file.write(f'\\\\begin{{tabular}}{{lcc}} \\n')\n",
    "    file.write(f'\\\\toprule \\n')\n",
    "      \n",
    "    file.write(f'Moment')    \n",
    "    for m in [HANK,model]:\n",
    "        file.write(f' & {m.label}')        \n",
    "    file.write('\\\\\\\\ \\n')\n",
    "    file.write('\\\\midrule \\n')\n",
    "    \n",
    "    for key in HANK.targets.keys():\n",
    "        file.write(f' {HANK.labels[key]} & {HANK.moms[key]:.4f} & {model.moms[key]:.4f} \\\\\\\\ \\n')\n",
    "    \n",
    "    file.write('\\\\bottomrule\\n')\n",
    "    file.write('\\\\end{tabular}\\n')"
   ]
  },
  {
   "cell_type": "markdown",
   "metadata": {},
   "source": [
    "## Adjustment costs"
   ]
  },
  {
   "cell_type": "code",
   "execution_count": 13,
   "metadata": {},
   "outputs": [
    {
     "data": {
      "image/png": "[encoded data removed]",
      "text/plain": [
       "<Figure size 432x288 with 1 Axes>"
      ]
     },
     "metadata": {
      "needs_background": "light"
     },
     "output_type": "display_data"
    }
   ],
   "source": [
    "fig = plt.figure()\n",
    "ax = fig.add_subplot(1,1,1)\n",
    "\n",
    "for m in [HANK,model]:\n",
    "    \n",
    "    par = m.par\n",
    "    \n",
    "    # a. get chic\n",
    "    chi_0 = par.kappa0\n",
    "    chi_1 = par.kappa1**(-par.kappa2)/(1+par.kappa2)\n",
    "    chi_2 = 1+par.kappa2\n",
    "\n",
    "    # b. adjcost share\n",
    "    adjcost_share =  lambda x: chi_0 + chi_1*abs(x)**(chi_2-1)\n",
    "\n",
    "    # c. figure\n",
    "    x = np.linspace(-0.05,0.05,100000)\n",
    "    y = adjcost_share(x)\n",
    "    ax.plot(x*100,y*100,label=m.label)\n",
    "    \n",
    "ax.set_xlabel('$|d_t|/a_t$')\n",
    "ax.set_ylabel('$\\chi(d_t,a_t)/|d_t|$')\n",
    "\n",
    "ax.legend(loc='upper center',frameon=True)    \n",
    "fig.savefig(f'figs/adjcost_compare.pdf')"
   ]
  },
  {
   "cell_type": "markdown",
   "metadata": {},
   "source": [
    "## Distributions"
   ]
  },
  {
   "cell_type": "code",
   "execution_count": 14,
   "metadata": {},
   "outputs": [
    {
     "data": {
      "image/png": "[encoded data removed]",
      "text/plain": [
       "<Figure size 432x288 with 1 Axes>"
      ]
     },
     "metadata": {
      "needs_background": "light"
     },
     "output_type": "display_data"
    }
   ],
   "source": [
    "fig = plt.figure()\n",
    "ax = fig.add_subplot(1,1,1)\n",
    "ax.set_xscale('symlog')\n",
    "\n",
    "for m in [HANK,model]:\n",
    "    ax.plot(m.par.grid_a*100,m.moms['a_margcum'],'-o',ms=3,label=m.label)   \n",
    "    \n",
    "ax.set_xlabel('$100 \\cdot a_t$')\n",
    "ax.set_ylabel(f'CDF')\n",
    "ax.set_ylim([-0.01,1.01])\n",
    "ax.legend(frameon=True)\n",
    "    \n",
    "fig.savefig(f'figs/CDF_a_compare.pdf')"
   ]
  },
  {
   "cell_type": "code",
   "execution_count": 15,
   "metadata": {},
   "outputs": [
    {
     "data": {
      "image/png": "[encoded data removed]",
      "text/plain": [
       "<Figure size 432x288 with 1 Axes>"
      ]
     },
     "metadata": {
      "needs_background": "light"
     },
     "output_type": "display_data"
    }
   ],
   "source": [
    "fig = plt.figure()\n",
    "ax = fig.add_subplot(1,1,1)\n",
    "ax.set_xscale('symlog')\n",
    "\n",
    "for m in [HANK,model]:\n",
    "    ax.plot(m.par.grid_b*100,m.moms['b_margcum'],'-o',ms=3,label=m.label)   \n",
    "    \n",
    "ax.set_xlabel('$100 \\cdot b_t$')\n",
    "ax.set_ylabel(f'CDF')\n",
    "ax.set_ylim([-0.01,1.01])\n",
    "ax.legend(frameon=True)\n",
    "    \n",
    "fig.savefig(f'figs/CDF_b_compare.pdf')"
   ]
  },
  {
   "cell_type": "code",
   "execution_count": 16,
   "metadata": {},
   "outputs": [
    {
     "data": {
      "image/png": "[encoded data removed]",
      "text/plain": [
       "<Figure size 432x288 with 2 Axes>"
      ]
     },
     "metadata": {
      "needs_background": "light"
     },
     "output_type": "display_data"
    },
    {
     "data": {
      "image/png": "[encoded data removed]",
      "text/plain": [
       "<Figure size 432x288 with 2 Axes>"
      ]
     },
     "metadata": {
      "needs_background": "light"
     },
     "output_type": "display_data"
    }
   ],
   "source": [
    "for m in [HANK,model]:\n",
    "    \n",
    "    fig = plt.figure()\n",
    "    ax = fig.add_subplot(1,1,1)\n",
    "\n",
    "    ax.set_xscale('symlog')\n",
    "    ax.set_yscale('symlog')\n",
    "\n",
    "    CS = ax.contourf(100*m.par.aaa[0],100*m.par.bbb[0],m.moms['ab_margcum'],levels=20)\n",
    "    cbar = fig.colorbar(CS)\n",
    "\n",
    "    ax.set_xlabel('$100 \\cdot a_t$')\n",
    "    ax.set_ylabel('$100 \\cdot b_t$')\n",
    "        \n",
    "    fig.savefig(f'figs/CDF_ab_{m.label}.pdf')    "
   ]
  },
  {
   "cell_type": "code",
   "execution_count": 20,
   "metadata": {},
   "outputs": [
    {
     "data": {
      "image/png": "[encoded data removed]",
      "text/plain": [
       "<Figure size 432x288 with 1 Axes>"
      ]
     },
     "metadata": {
      "needs_background": "light"
     },
     "output_type": "display_data"
    }
   ],
   "source": [
    "fig = plt.figure()\n",
    "ax = fig.add_subplot(1,1,1)\n",
    "\n",
    "for m in [HANK,model]:\n",
    "    ax.plot(m.moms['grid_MPC'],m.moms['MPC_margcum'],'-',label=m.label)   \n",
    "    \n",
    "ax.set_xlabel('MPC')\n",
    "ax.set_ylabel(f'CDF')\n",
    "ax.set_ylim([-0.01,1.01])\n",
    "ax.legend(loc='lower right',frameon=True)\n",
    "    \n",
    "fig.savefig(f'figs/CDF_MPC_compare.pdf')"
   ]
  }
 ],
 "metadata": {
  "kernelspec": {
   "display_name": "Python 3",
   "language": "python",
   "name": "python3"
  },
  "language_info": {
   "codemirror_mode": {
    "name": "ipython",
    "version": 3
   },
   "file_extension": ".py",
   "mimetype": "text/x-python",
   "name": "python",
   "nbconvert_exporter": "python",
   "pygments_lexer": "ipython3",
   "version": "3.7.3"
  },
  "toc-autonumbering": true
 },
 "nbformat": 4,
 "nbformat_minor": 4
}
