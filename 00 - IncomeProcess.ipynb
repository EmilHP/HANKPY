{
 "cells": [
  {
   "cell_type": "markdown",
   "metadata": {},
   "source": [
    "# Setup"
   ]
  },
  {
   "cell_type": "code",
   "execution_count": 1,
   "metadata": {},
   "outputs": [],
   "source": [
    "from consav.runtools import write_numba_config\n",
    "write_numba_config(disable=0,threads=20,threading_layer='omp')"
   ]
  },
  {
   "cell_type": "code",
   "execution_count": 2,
   "metadata": {},
   "outputs": [],
   "source": [
    "import time\n",
    "import numpy as np\n",
    "\n",
    "import matplotlib.pyplot as plt\n",
    "plt.style.use('seaborn-whitegrid')\n",
    "colors = [x['color'] for x in plt.style.library['seaborn']['axes.prop_cycle']]\n",
    "markers = ['s','P','D','v','^','*']\n",
    "\n",
    "from tabulate import tabulate\n",
    "\n",
    "%load_ext autoreload\n",
    "%autoreload 2\n",
    "\n",
    "from TwoAssetModelCont import TwoAssetModelContClass\n",
    "import income_process"
   ]
  },
  {
   "cell_type": "markdown",
   "metadata": {},
   "source": [
    "# Model"
   ]
  },
  {
   "cell_type": "code",
   "execution_count": 3,
   "metadata": {},
   "outputs": [],
   "source": [
    "model = TwoAssetModelContClass(name='HANK',like_HANK=True)\n",
    "model.create_grids()\n",
    "par = model.par"
   ]
  },
  {
   "cell_type": "markdown",
   "metadata": {},
   "source": [
    "# Simulate"
   ]
  },
  {
   "cell_type": "code",
   "execution_count": 6,
   "metadata": {},
   "outputs": [],
   "source": [
    "nsim = 50_000\n",
    "seed = 2019"
   ]
  },
  {
   "cell_type": "code",
   "execution_count": 7,
   "metadata": {},
   "outputs": [],
   "source": [
    "zannsim_est, zannlevsim_est = income_process.sim_est(par,nsim,seed)"
   ]
  },
  {
   "cell_type": "code",
   "execution_count": 6,
   "metadata": {},
   "outputs": [],
   "source": [
    "zannsim_disc, zannlevsim_disc = income_process.sim_disc(par,nsim,seed)"
   ]
  },
  {
   "cell_type": "markdown",
   "metadata": {},
   "source": [
    "# Moments"
   ]
  },
  {
   "cell_type": "code",
   "execution_count": 7,
   "metadata": {},
   "outputs": [],
   "source": [
    "moments_estimated = income_process.compute_moments(nsim,zannsim_est,zannlevsim_est)"
   ]
  },
  {
   "cell_type": "code",
   "execution_count": 8,
   "metadata": {},
   "outputs": [],
   "source": [
    "moments_disc = income_process.compute_moments(nsim,zannsim_disc, zannlevsim_disc)"
   ]
  },
  {
   "cell_type": "markdown",
   "metadata": {},
   "source": [
    "# Table"
   ]
  },
  {
   "cell_type": "code",
   "execution_count": 9,
   "metadata": {},
   "outputs": [
    {
     "name": "stdout",
     "output_type": "stream",
     "text": [
      "Estimated process moments\n",
      "Moment                          Value\n",
      "--------------------------  ---------\n",
      "Variance: annual log earns   0.699961\n",
      "Variance: annual log earns   0.216562\n",
      "Variance: 5-year change      0.508459\n",
      "Kurtosis: 1-year change     16.7583\n",
      "Kurtosis: 5-year change     12.0824\n",
      "Frac. 1-year change  < 10%   0.557048\n",
      "Frac. 1-year change  < 20%   0.671516\n",
      "Frac. 1-year change  < 50%   0.852564\n",
      "\n",
      "Discretized process moments\n",
      "Moment                          Value\n",
      "--------------------------  ---------\n",
      "Variance: annual log earns   0.717738\n",
      "Variance: annual log earns   0.209634\n",
      "Variance: 5-year change      0.519777\n",
      "Kurtosis: 1-year change     12.1523\n",
      "Kurtosis: 5-year change      9.95316\n",
      "Frac. 1-year change  < 10%   0.632104\n",
      "Frac. 1-year change  < 20%   0.698484\n",
      "Frac. 1-year change  < 50%   0.82026\n"
     ]
    }
   ],
   "source": [
    "print('Estimated process moments')\n",
    "print(tabulate([['Variance: annual log earns', moments_estimated[\"mu2z\"]], \n",
    "                ['Variance: annual log earns', moments_estimated[\"mu2dz1\"]], \n",
    "                ['Variance: 5-year change', moments_estimated[\"mu2dz5\"]], \n",
    "                ['Kurtosis: 1-year change', moments_estimated[\"gam4dz1\"]], \n",
    "                ['Kurtosis: 5-year change',  moments_estimated[\"gam4dz5\"]], \n",
    "                ['Frac. 1-year change  < 10%', moments_estimated[\"fracdz1less10\"]], \n",
    "                ['Frac. 1-year change  < 20%', moments_estimated[\"fracdz1less20\"]], \n",
    "                ['Frac. 1-year change  < 50% ', moments_estimated[\"fracdz1less50\"]]], \n",
    "                headers=['Moment', 'Value']))\n",
    "print()\n",
    "print('Discretized process moments')\n",
    "print(tabulate([['Variance: annual log earns', moments_disc[\"mu2z\"]], \n",
    "                ['Variance: annual log earns', moments_disc[\"mu2dz1\"]], \n",
    "                ['Variance: 5-year change',moments_disc[\"mu2dz5\"]], \n",
    "                ['Kurtosis: 1-year change', moments_disc[\"gam4dz1\"]], \n",
    "                ['Kurtosis: 5-year change',  moments_disc[\"gam4dz5\"]], \n",
    "                ['Frac. 1-year change  < 10%', moments_disc[\"fracdz1less10\"]], \n",
    "                ['Frac. 1-year change  < 20%', moments_disc[\"fracdz1less20\"]], \n",
    "                ['Frac. 1-year change  < 50% ', moments_disc[\"fracdz1less50\"]]], \n",
    "                headers=['Moment', 'Value']))"
   ]
  }
 ],
 "metadata": {
  "kernelspec": {
   "display_name": "Python 3",
   "language": "python",
   "name": "python3"
  },
  "language_info": {
   "codemirror_mode": {
    "name": "ipython",
    "version": 3
   },
   "file_extension": ".py",
   "mimetype": "text/x-python",
   "name": "python",
   "nbconvert_exporter": "python",
   "pygments_lexer": "ipython3",
   "version": "3.7.3"
  },
  "toc-autonumbering": true
 },
 "nbformat": 4,
 "nbformat_minor": 4
}
