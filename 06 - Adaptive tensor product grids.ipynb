{
 "cells": [
  {
   "cell_type": "markdown",
   "metadata": {},
   "source": [
    "# Adaptive Tensor Product Grids - Applied to HANK"
   ]
  },
  {
   "cell_type": "markdown",
   "metadata": {},
   "source": [
    "The **choice of grids** when solving an economic model is somewhat of an **art**. Choosing grids in a smart way can substantially reduce the computational burden of solving a model leaving results unchanged. \n",
    "\n",
    "In **general equilibrium** and **structural estimation** applications, the model needs to be solved repeatedly, and it is therefore particularily benefial to spend some time initially on choosing the grids wisely.\n",
    "\n",
    "In this notebook, I propose a method for choosing **tensor product grids in an adaptive manner**. Algorithms exists for choosing adaptive sparse grids, but this requires that the solution method is changed to handle these more complex grids. This is not always possible, or might be cumbersome.\n",
    "\n",
    "The main idea is to **remove grid points where the function of interest is linear**.\n",
    "\n",
    "The **algorithm** in words is:\n",
    "\n",
    "1. Solve the model on a **fine tensor product grid** of your arbitrary choice\n",
    "2. **Initialize** the **adaptive tensor product grid** to the fine grid\n",
    "3. For each *second* grid point (not including the last) in each dimension, compute the **maximum absolute relative errror leaving this grid point out and using linear interpolation instead**. The  error is computed using the result at the fine tensor product grid and interpolation across the values in the current adaptive tensor product grid. The maximum is computed across all combinations of the grid points in the remaining dimensions.\n",
    "4. **Remove grids points** where the maximum absolute relative error is below some tolerance, and **update the adaptive tensor product grids** accordingly.\n",
    "5. **Stop if** no grid points were removed\n",
    "6. (*Optional*) **Re-solve the model** on the adaptive tensor product grid (else use the values from the solution fine grid).\n",
    "7. Return to step 3\n",
    "\n",
    "**Note I:** The above algorithm only requires solving the model once if step 6 is skipped.\n",
    "\n",
    "**Note II:** Re-solving the model will not result in the same values. The optional step 6 solves this.\n",
    "\n",
    "**Note III:** A termination based on a simulation result could be added."
   ]
  },
  {
   "cell_type": "markdown",
   "metadata": {},
   "source": [
    "# Setup"
   ]
  },
  {
   "cell_type": "code",
   "execution_count": 1,
   "metadata": {},
   "outputs": [],
   "source": [
    "from consav.runtools import write_numba_config\n",
    "write_numba_config(disable=0,threads=20,threading_layer='omp')"
   ]
  },
  {
   "cell_type": "code",
   "execution_count": 2,
   "metadata": {},
   "outputs": [],
   "source": [
    "import os\n",
    "import time\n",
    "import numpy as np\n",
    "\n",
    "import matplotlib.pyplot as plt\n",
    "plt.style.use('seaborn-whitegrid')\n",
    "colors = [x['color'] for x in plt.style.library['seaborn']['axes.prop_cycle']]\n",
    "markers = ['s','P','D','v','^','*']\n",
    "\n",
    "%load_ext autoreload\n",
    "%autoreload 2\n",
    "\n",
    "from consav.misc import elapsed\n",
    "from consav import linear_interp\n",
    "from TwoAssetModelCont import TwoAssetModelContClass"
   ]
  },
  {
   "cell_type": "markdown",
   "metadata": {},
   "source": [
    "# Solve HANK for fine grid in $a$-dimension"
   ]
  },
  {
   "cell_type": "code",
   "execution_count": 3,
   "metadata": {},
   "outputs": [
    {
     "name": "stdout",
     "output_type": "stream",
     "text": [
      "model created in 11.7 secs\n"
     ]
    }
   ],
   "source": [
    "t0 = time.time()\n",
    "model = TwoAssetModelContClass(name='HANK',like_HANK=True)\n",
    "print(f'model created in {elapsed(t0)}')"
   ]
  },
  {
   "cell_type": "code",
   "execution_count": 4,
   "metadata": {},
   "outputs": [
    {
     "name": "stdout",
     "output_type": "stream",
     "text": [
      "Grids created in 6.2 secs\n",
      "Solution prepared in 7.3 secs\n",
      "Solving HJB:\n",
      "    1: 84.1700730791792466\n",
      "    2: 38.2038971698338514\n",
      "    3: 31.1125314480001975\n",
      "    4: 30.4469082546748666\n",
      "    5: 20.4968912764180615\n",
      "    6: 19.4661796129954467\n",
      "    7: 15.1727371142017944\n",
      "    8: 12.9574056574936805\n",
      "    9: 11.0695151551121711\n",
      "  100: 0.0000102698259070\n",
      " converged in 3.0 mins 2 secs in iteration 146\n",
      "\n",
      "Solving KFE:\n",
      "    1: 617936907.3854777812957764\n",
      "    2: 2436369.1853132443502545\n",
      "    3: 161638.3345649561670143\n",
      "    4: 141659.3809734772657976\n",
      "    5: 51098.0943056882533710\n",
      "    6: 56267.1547527411894407\n",
      "    7: 19191.3581065573962405\n",
      "    8: 34162.1902245900710113\n",
      "    9: 15908.6761711678991560\n",
      "  100: 0.0038568567397306\n",
      " converged in 35.6 secs secs in iteration 189\n"
     ]
    }
   ],
   "source": [
    "# a. set fine grid in a dimension\n",
    "model.par.Na = 200\n",
    "model.par.KFEtol = 1e-8 # with larger (original) KFEtol, wont converge\n",
    "# b. solve for fine grid\n",
    "model.solve()\n",
    "# c. save model solution for plotting later\n",
    "model.calculate_moments(do_MPC=True)\n",
    "model_fine = model.copy()"
   ]
  },
  {
   "cell_type": "markdown",
   "metadata": {},
   "source": [
    "# Adaptive tensor product grid algorithm"
   ]
  },
  {
   "cell_type": "code",
   "execution_count": 5,
   "metadata": {},
   "outputs": [],
   "source": [
    "tol = 1e-3\n",
    "\n",
    "par = model.par\n",
    "sol = model.sol\n",
    "\n",
    "# fine indices\n",
    "grid_a = par.grid_a\n",
    "grid_ia = np.arange(par.Na,dtype=np.int64)\n",
    "grid_ia_approx = np.arange(par.Na,dtype=np.int64)\n",
    "sol_true_v = sol.v.copy() # v is sufficient as g is generated (implicitly) from v solution\n",
    "sol_approx_v = sol_true_v.copy()"
   ]
  },
  {
   "cell_type": "code",
   "execution_count": 6,
   "metadata": {},
   "outputs": [
    {
     "name": "stdout",
     "output_type": "stream",
     "text": [
      "0:     48 grids points removed, share of grid points remaining 0.7600\n",
      "1:      9 grids points removed, share of grid points remaining 0.7150\n",
      "2:      6 grids points removed, share of grid points remaining 0.6850\n",
      "3:      2 grids points removed, share of grid points remaining 0.6750\n",
      "4:      1 grids points removed, share of grid points remaining 0.6700\n",
      "5:      1 grids points removed, share of grid points remaining 0.6650\n",
      "6:      0 grids points removed, share of grid points remaining 0.6650\n"
     ]
    }
   ],
   "source": [
    "# iterate\n",
    "it = 0\n",
    "while it < 100:\n",
    "    \n",
    "    # a. number of grid points\n",
    "    Na_approx  = grid_ia_approx.size\n",
    "    \n",
    "    # b. vectors for including or not\n",
    "    Ia_approx = np.ones(Na_approx,dtype=np.bool_)  \n",
    "\n",
    "    # c. a dimension\n",
    "    for ia_ in range(1,Na_approx,2):\n",
    "        \n",
    "        if ia_ == Na_approx-1: continue # interpolation not possible\n",
    "        \n",
    "        # a. solution at fine\n",
    "        ia = grid_ia_approx[ia_]\n",
    "        true_v = sol_true_v[:,ia,:]\n",
    "        \n",
    "        # b. neighbors in adaptive\n",
    "        ia_u = grid_ia_approx[ia_+1]\n",
    "        ia_d = grid_ia_approx[ia_-1]\n",
    "        \n",
    "        # c. interpolation\n",
    "        w = (grid_a[ia_u]-grid_a[ia])/(grid_a[ia_u]-grid_a[ia_d])\n",
    "        approx_v = w*sol_true_v[:,ia_d,:] + (1-w)*sol_true_v[:,ia_u,:]\n",
    "        \n",
    "        # d. error\n",
    "        max_abs_error_v = np.max(np.abs(true_v-approx_v)/true_v)\n",
    "        Ia_approx[ia_] = True if max_abs_error_v > tol else False\n",
    "    \n",
    "    # e. update adaptive\n",
    "    grid_ia_approx = grid_ia_approx[Ia_approx]\n",
    "    \n",
    "    sol_approx_v = sol_approx_v[:,Ia_approx,:]\n",
    "\n",
    "    # f. check\n",
    "    removed = np.sum(~Ia_approx)\n",
    "    share = grid_ia_approx.size/grid_a.size\n",
    "    print(f'{it}: {removed:6d} grids points removed, share of grid points remaining {share:.4f}')\n",
    "    \n",
    "    if removed == 0: break\n",
    "    it += 1\n",
    "\n",
    "# constructive adaptive\n",
    "grid_a_approx = grid_a[grid_ia_approx]"
   ]
  },
  {
   "cell_type": "markdown",
   "metadata": {},
   "source": [
    "**Effectiveness:** We see that approx. 20% of grid points are removed."
   ]
  },
  {
   "cell_type": "code",
   "execution_count": 7,
   "metadata": {},
   "outputs": [
    {
     "name": "stdout",
     "output_type": "stream",
     "text": [
      "grids points for a-dimension is 133 [fine: 200]\n"
     ]
    }
   ],
   "source": [
    "print(f'grids points for a-dimension is {grid_a_approx.size} [fine: {grid_a.size}]')"
   ]
  },
  {
   "cell_type": "markdown",
   "metadata": {},
   "source": [
    "# Approximation error"
   ]
  },
  {
   "cell_type": "code",
   "execution_count": 8,
   "metadata": {},
   "outputs": [
    {
     "name": "stdout",
     "output_type": "stream",
     "text": [
      "max_rel_abs_error = 0.00091782\n"
     ]
    }
   ],
   "source": [
    "from consav import linear_interp\n",
    "max_rel_abs_error = -np.inf\n",
    "for iz,z in enumerate(par.grid_z):\n",
    "    for ia,a in enumerate(par.grid_a):\n",
    "        for ib,b in enumerate(par.grid_b):\n",
    "            interp = linear_interp.interp_3d(par.grid_z,grid_a_approx,par.grid_b,sol_approx_v,z,a,b) # interp 3d\n",
    "            true = sol_true_v[iz,ia,ib]\n",
    "            max_rel_abs_error = np.fmax(max_rel_abs_error,np.abs(true-interp)/true)\n",
    "        \n",
    "print(f'max_rel_abs_error = {max_rel_abs_error:.8f}')"
   ]
  },
  {
   "cell_type": "markdown",
   "metadata": {},
   "source": [
    "**Precision:**  Somewhat better than the tolerance of 1e-4."
   ]
  },
  {
   "cell_type": "markdown",
   "metadata": {},
   "source": [
    "# Figures"
   ]
  },
  {
   "cell_type": "markdown",
   "metadata": {},
   "source": [
    "**Re-solve model for small grid**"
   ]
  },
  {
   "cell_type": "code",
   "execution_count": 9,
   "metadata": {},
   "outputs": [
    {
     "name": "stdout",
     "output_type": "stream",
     "text": [
      "Grids created in 0.3 secs\n",
      "Solution prepared in 1.1 secs\n",
      "Solving HJB:\n",
      "    1: 84.1633561501255656\n",
      "    2: 38.2037074429145775\n",
      "    3: 30.8318823628495160\n",
      "    4: 30.1431722839211389\n",
      "    5: 20.2922089539094443\n",
      "    6: 19.1436327350193238\n",
      "    7: 14.9471551624470180\n",
      "    8: 12.6982443624052621\n",
      "    9: 10.8486324170131780\n",
      "  100: 0.0000091376112152\n",
      " converged in 1.0 mins 43 secs in iteration 145\n",
      "\n",
      "Solving KFE:\n",
      "    1: 4028.3857431732621990\n",
      "    2: 1372.2116767144427740\n",
      "    3: 385.4280229131361466\n",
      "    4: 203.6003917630109754\n",
      "    5: 165.6817237529355680\n",
      "    6: 87.2231251816291433\n",
      "    7: 79.9129914657418112\n",
      "    8: 44.0411851279852726\n",
      "    9: 40.0126850776861147\n",
      "  100: 0.0000387121390872\n",
      " converged in 17.7 secs secs in iteration 177\n"
     ]
    }
   ],
   "source": [
    "# a. set reduced grid in a dimension\n",
    "model.par.Na = grid_a_approx.size\n",
    "# b. solve for fine grid\n",
    "model.solve(load_grid=True,grid_a=grid_a_approx)\n",
    "# c. save for plotting\n",
    "model.calculate_moments(do_MPC=True)\n",
    "model_small = model.copy()"
   ]
  },
  {
   "cell_type": "markdown",
   "metadata": {},
   "source": [
    "**Plot comparison, tol = 1e-3**"
   ]
  },
  {
   "cell_type": "code",
   "execution_count": 10,
   "metadata": {},
   "outputs": [
    {
     "name": "stdout",
     "output_type": "stream",
     "text": [
      "AY with a fine grid: 4.06214375\n",
      "AY with a small grid: 3.86619290\n",
      "Avg. MPC with a fine grid: 0.15434148\n",
      "Avg. MPC with a small grid: 0.15519901\n"
     ]
    },
    {
     "data": {
      "image/png": "[encoded data removed]",
      "text/plain": [
       "<Figure size 864x432 with 2 Axes>"
      ]
     },
     "metadata": {
      "needs_background": "light"
     },
     "output_type": "display_data"
    }
   ],
   "source": [
    "fig = plt.figure(figsize=(12,6))\n",
    "\n",
    "ax = fig.add_subplot(2,2,1)\n",
    "ax.set_xscale('symlog')\n",
    "ax.plot(model_fine.par.grid_a*100,model_fine.moms['a_margcum'])\n",
    "ax.plot(model_small.par.grid_a*100,model_small.moms['a_margcum'])\n",
    "ax.set_xlabel('$100 \\cdot a_t$')\n",
    "ax.set_ylabel(f'CDF')\n",
    "ax.set_ylim([-0.01,1.01])\n",
    "ax.legend(['Fine','Small'],frameon=True)\n",
    "\n",
    "ax = fig.add_subplot(2,2,2)\n",
    "ax.set_xscale('symlog')\n",
    "ax.plot(model_fine.par.grid_b*100,model_fine.moms['b_margcum'])\n",
    "ax.plot(model_small.par.grid_b*100,model_small.moms['b_margcum'])\n",
    "ax.set_xlabel('$100 \\cdot b_t$')\n",
    "ax.set_ylabel(f'CDF')\n",
    "ax.set_ylim([-0.01,1.01])\n",
    "ax.legend(['Fine','Small'],frameon=True)\n",
    "\n",
    "print(f\"AY with a fine grid: {model_fine.moms['AY']:.8f}\")\n",
    "print(f\"AY with a small grid: {model_small.moms['AY']:.8f}\")\n",
    "\n",
    "print(f\"Avg. MPC with a fine grid: {model_fine.moms['MPC']:.8f}\")\n",
    "print(f\"Avg. MPC with a small grid: {model_small.moms['MPC']:.8f}\")"
   ]
  },
  {
   "cell_type": "markdown",
   "metadata": {},
   "source": [
    "**Plot comparison, tol = 1e-4**"
   ]
  },
  {
   "cell_type": "code",
   "execution_count": 10,
   "metadata": {},
   "outputs": [
    {
     "name": "stdout",
     "output_type": "stream",
     "text": [
      "AY with a fine grid: 4.06214375\n",
      "AY with a small grid: 4.05987351\n",
      "Avg. MPC with a fine grid: 0.15434148\n",
      "Avg. MPC with a small grid: 0.15433399\n"
     ]
    },
    {
     "data": {
      "image/png": "[encoded data removed]",
      "text/plain": [
       "<Figure size 864x432 with 2 Axes>"
      ]
     },
     "metadata": {
      "needs_background": "light"
     },
     "output_type": "display_data"
    }
   ],
   "source": [
    "fig = plt.figure(figsize=(12,6))\n",
    "\n",
    "ax = fig.add_subplot(2,2,1)\n",
    "ax.set_xscale('symlog')\n",
    "ax.plot(model_fine.par.grid_a*100,model_fine.moms['a_margcum'])\n",
    "ax.plot(model_small.par.grid_a*100,model_small.moms['a_margcum'])\n",
    "ax.set_xlabel('$100 \\cdot a_t$')\n",
    "ax.set_ylabel(f'CDF')\n",
    "ax.set_ylim([-0.01,1.01])\n",
    "ax.legend(['Fine','Small'],frameon=True)\n",
    "\n",
    "ax = fig.add_subplot(2,2,2)\n",
    "ax.set_xscale('symlog')\n",
    "ax.plot(model_fine.par.grid_b*100,model_fine.moms['b_margcum'])\n",
    "ax.plot(model_small.par.grid_b*100,model_small.moms['b_margcum'])\n",
    "ax.set_xlabel('$100 \\cdot b_t$')\n",
    "ax.set_ylabel(f'CDF')\n",
    "ax.set_ylim([-0.01,1.01])\n",
    "ax.legend(['Fine','Small'],frameon=True)\n",
    "\n",
    "print(f\"AY with a fine grid: {model_fine.moms['AY']:.8f}\")\n",
    "print(f\"AY with a small grid: {model_small.moms['AY']:.8f}\")\n",
    "\n",
    "print(f\"Avg. MPC with a fine grid: {model_fine.moms['MPC']:.8f}\")\n",
    "print(f\"Avg. MPC with a small grid: {model_small.moms['MPC']:.8f}\")"
   ]
  }
 ],
 "metadata": {
  "kernelspec": {
   "display_name": "Python 3",
   "language": "python",
   "name": "python3"
  },
  "language_info": {
   "codemirror_mode": {
    "name": "ipython",
    "version": 3
   },
   "file_extension": ".py",
   "mimetype": "text/x-python",
   "name": "python",
   "nbconvert_exporter": "python",
   "pygments_lexer": "ipython3",
   "version": "3.7.3"
  },
  "toc-autonumbering": true
 },
 "nbformat": 4,
 "nbformat_minor": 4
}
