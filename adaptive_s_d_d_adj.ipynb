{
 "cells": [
  {
   "cell_type": "markdown",
   "metadata": {},
   "source": [
    "# Adaptive Tensor Product Grids - Applied to HANK"
   ]
  },
  {
   "cell_type": "markdown",
   "metadata": {},
   "source": [
    "The **choice of grids** when solving an economic model is somewhat of an **art**. Choosing grids in a smart way can substantially reduce the computational burden of solving a model leaving results unchanged. \n",
    "\n",
    "In **general equilibrium** and **structural estimation** applications, the model needs to be solved repeatedly, and it is therefore particularily benefial to spend some time initially on choosing the grids wisely.\n",
    "\n",
    "In this notebook, I propose a method for choosing **tensor product grids in an adaptive manner**. Algorithms exists for choosing adaptive sparse grids, but this requires that the solution method is changed to handle these more complex grids. This is not always possible, or might be cumbersome.\n",
    "\n",
    "The main idea is to **remove grid points where the function of interest is linear**.\n",
    "\n",
    "The **algorithm** in words is:\n",
    "\n",
    "1. Solve the model on a **fine tensor product grid** of your arbitrary choice\n",
    "2. **Initialize** the **adaptive tensor product grid** to the fine grid\n",
    "3. For each *second* grid point (not including the last) in each dimension, compute the **maximum absolute relative errror leaving this grid point out and using linear interpolation instead**. The  error is computed using the result at the fine tensor product grid and interpolation across the values in the current adaptive tensor product grid. The maximum is computed across all combinations of the grid points in the remaining dimensions.\n",
    "4. **Remove grids points** where the maximum absolute relative error is below some tolerance, and **update the adaptive tensor product grids** accordingly.\n",
    "5. **Stop if** no grid points were removed\n",
    "6. (*Optional*) **Re-solve the model** on the adaptive tensor product grid (else use the values from the solution fine grid).\n",
    "7. Return to step 3\n",
    "\n",
    "**Note I:** The above algorithm only requires solving the model once if step 6 is skipped.\n",
    "\n",
    "**Note II:** Re-solving the model will not result in the same values. The optional step 6 solves this.\n",
    "\n",
    "**Note III:** A termination based on a simulation result could be added."
   ]
  },
  {
   "cell_type": "markdown",
   "metadata": {},
   "source": [
    "# Setup"
   ]
  },
  {
   "cell_type": "code",
   "execution_count": 1,
   "metadata": {},
   "outputs": [],
   "source": [
    "from consav.runtools import write_numba_config\n",
    "write_numba_config(disable=0,threads=20,threading_layer='omp')"
   ]
  },
  {
   "cell_type": "code",
   "execution_count": 2,
   "metadata": {},
   "outputs": [],
   "source": [
    "import os\n",
    "import time\n",
    "import numpy as np\n",
    "\n",
    "import matplotlib.pyplot as plt\n",
    "plt.style.use('seaborn-whitegrid')\n",
    "colors = [x['color'] for x in plt.style.library['seaborn']['axes.prop_cycle']]\n",
    "markers = ['s','P','D','v','^','*']\n",
    "\n",
    "%load_ext autoreload\n",
    "%autoreload 2\n",
    "\n",
    "from consav.misc import elapsed\n",
    "from consav import linear_interp\n",
    "from TwoAssetModelCont import TwoAssetModelContClass"
   ]
  },
  {
   "cell_type": "markdown",
   "metadata": {},
   "source": [
    "# Solve HANK for fine grid in $a$-dimension"
   ]
  },
  {
   "cell_type": "code",
   "execution_count": 3,
   "metadata": {},
   "outputs": [
    {
     "name": "stdout",
     "output_type": "stream",
     "text": [
      "model created in 28.3 secs\n"
     ]
    }
   ],
   "source": [
    "t0 = time.time()\n",
    "model = TwoAssetModelContClass(name='HANK',like_HANK=True)\n",
    "print(f'model created in {elapsed(t0)}')"
   ]
  },
  {
   "cell_type": "code",
   "execution_count": 4,
   "metadata": {},
   "outputs": [
    {
     "name": "stdout",
     "output_type": "stream",
     "text": [
      "Grids created in 5.2 secs\n",
      "Solution prepared in 5.8 secs\n",
      "Solving HJB:\n",
      "    1: 84.1700730791792466\n",
      "    2: 38.2038971698338514\n",
      "    3: 31.1125314480001975\n",
      "    4: 30.4469082546748666\n"
     ]
    },
    {
     "ename": "KeyboardInterrupt",
     "evalue": "",
     "output_type": "error",
     "traceback": [
      "\u001b[1;31m---------------------------------------------------------------------------\u001b[0m",
      "\u001b[1;31mKeyboardInterrupt\u001b[0m                         Traceback (most recent call last)",
      "\u001b[1;32m<ipython-input-4-0eb9b9e1c3af>\u001b[0m in \u001b[0;36m<module>\u001b[1;34m\u001b[0m\n\u001b[0;32m      3\u001b[0m \u001b[0mmodel\u001b[0m\u001b[1;33m.\u001b[0m\u001b[0mpar\u001b[0m\u001b[1;33m.\u001b[0m\u001b[0mKFEtol\u001b[0m \u001b[1;33m=\u001b[0m \u001b[1;36m1e-8\u001b[0m \u001b[1;31m# with larger (original) KFEtol, wont converge\u001b[0m\u001b[1;33m\u001b[0m\u001b[1;33m\u001b[0m\u001b[0m\n\u001b[0;32m      4\u001b[0m \u001b[1;31m# b. solve for fine grid\u001b[0m\u001b[1;33m\u001b[0m\u001b[1;33m\u001b[0m\u001b[1;33m\u001b[0m\u001b[0m\n\u001b[1;32m----> 5\u001b[1;33m \u001b[0mmodel\u001b[0m\u001b[1;33m.\u001b[0m\u001b[0msolve\u001b[0m\u001b[1;33m(\u001b[0m\u001b[1;33m)\u001b[0m\u001b[1;33m\u001b[0m\u001b[1;33m\u001b[0m\u001b[0m\n\u001b[0m\u001b[0;32m      6\u001b[0m \u001b[1;31m# c. save model solution for plotting later\u001b[0m\u001b[1;33m\u001b[0m\u001b[1;33m\u001b[0m\u001b[1;33m\u001b[0m\u001b[0m\n\u001b[0;32m      7\u001b[0m \u001b[0mmodel\u001b[0m\u001b[1;33m.\u001b[0m\u001b[0mcalculate_moments\u001b[0m\u001b[1;33m(\u001b[0m\u001b[0mdo_MPC\u001b[0m\u001b[1;33m=\u001b[0m\u001b[1;32mTrue\u001b[0m\u001b[1;33m)\u001b[0m\u001b[1;33m\u001b[0m\u001b[1;33m\u001b[0m\u001b[0m\n",
      "\u001b[1;32m~\\Dropbox\\Phd\\Computational_Git\\HANKPY_fork\\HANKPY\\TwoAssetModelCont.py\u001b[0m in \u001b[0;36msolve\u001b[1;34m(self, do_print, print_freq, v0, g0, solmethod, retirement, load_grid, grid_a)\u001b[0m\n\u001b[0;32m    542\u001b[0m             \u001b[0mprint\u001b[0m\u001b[1;33m(\u001b[0m\u001b[1;34m'Solving HJB:'\u001b[0m\u001b[1;33m)\u001b[0m\u001b[1;33m\u001b[0m\u001b[1;33m\u001b[0m\u001b[0m\n\u001b[0;32m    543\u001b[0m \u001b[1;33m\u001b[0m\u001b[0m\n\u001b[1;32m--> 544\u001b[1;33m         \u001b[0mself\u001b[0m\u001b[1;33m.\u001b[0m\u001b[0mtimings\u001b[0m\u001b[1;33m[\u001b[0m\u001b[1;34m'HJB'\u001b[0m\u001b[1;33m]\u001b[0m \u001b[1;33m=\u001b[0m \u001b[0msolve\u001b[0m\u001b[1;33m.\u001b[0m\u001b[0msolve_HJB\u001b[0m\u001b[1;33m(\u001b[0m\u001b[0mself\u001b[0m\u001b[1;33m,\u001b[0m\u001b[0mdo_print\u001b[0m\u001b[1;33m,\u001b[0m\u001b[0mprint_freq\u001b[0m\u001b[1;33m,\u001b[0m\u001b[0msolmethod\u001b[0m\u001b[1;33m)\u001b[0m\u001b[1;33m\u001b[0m\u001b[1;33m\u001b[0m\u001b[0m\n\u001b[0m\u001b[0;32m    545\u001b[0m \u001b[1;33m\u001b[0m\u001b[0m\n\u001b[0;32m    546\u001b[0m         \u001b[1;32mif\u001b[0m \u001b[0mdo_print\u001b[0m\u001b[1;33m:\u001b[0m\u001b[1;33m\u001b[0m\u001b[1;33m\u001b[0m\u001b[0m\n",
      "\u001b[1;32m~\\Dropbox\\Phd\\Computational_Git\\HANKPY_fork\\HANKPY\\solve.py\u001b[0m in \u001b[0;36msolve_HJB\u001b[1;34m(model, do_print, print_freq, solmethod)\u001b[0m\n\u001b[0;32m    516\u001b[0m \u001b[1;33m\u001b[0m\u001b[0m\n\u001b[0;32m    517\u001b[0m         \u001b[1;31m# vi. solve equation system\u001b[0m\u001b[1;33m\u001b[0m\u001b[1;33m\u001b[0m\u001b[1;33m\u001b[0m\u001b[0m\n\u001b[1;32m--> 518\u001b[1;33m         \u001b[0msolve_eq_sys_HJB\u001b[0m\u001b[1;33m(\u001b[0m\u001b[0mpar\u001b[0m\u001b[1;33m,\u001b[0m\u001b[0msol\u001b[0m\u001b[1;33m,\u001b[0m\u001b[0mast\u001b[0m\u001b[1;33m,\u001b[0m\u001b[0msolmethod\u001b[0m\u001b[1;33m,\u001b[0m\u001b[0mcppfile\u001b[0m\u001b[1;33m)\u001b[0m\u001b[1;33m\u001b[0m\u001b[1;33m\u001b[0m\u001b[0m\n\u001b[0m\u001b[0;32m    519\u001b[0m \u001b[1;33m\u001b[0m\u001b[0m\n\u001b[0;32m    520\u001b[0m         \u001b[1;31m# viii. howard improvement step\u001b[0m\u001b[1;33m\u001b[0m\u001b[1;33m\u001b[0m\u001b[1;33m\u001b[0m\u001b[0m\n",
      "\u001b[1;32m~\\Dropbox\\Phd\\Computational_Git\\HANKPY_fork\\HANKPY\\solve.py\u001b[0m in \u001b[0;36msolve_eq_sys_HJB\u001b[1;34m(par, sol, ast, solmethod, cppfile)\u001b[0m\n\u001b[0;32m    462\u001b[0m     \u001b[1;32melif\u001b[0m \u001b[0msolmethod\u001b[0m \u001b[1;33m==\u001b[0m \u001b[1;34m'UMFPACK'\u001b[0m\u001b[1;33m:\u001b[0m\u001b[1;33m\u001b[0m\u001b[1;33m\u001b[0m\u001b[0m\n\u001b[0;32m    463\u001b[0m         cppfile.solve_many(par.Nab,par.Nz,ast.pp_Qps,ast.pp_Qis,ast.pp_Qxs,\n\u001b[1;32m--> 464\u001b[1;33m                            ast.pp_RHS_HJB,ast.pp_v,ast.pp_symbolics,ast.pp_Wi,ast.pp_W,True,True,True,par.cppthreads)\n\u001b[0m\u001b[0;32m    465\u001b[0m     \u001b[1;32melse\u001b[0m\u001b[1;33m:\u001b[0m\u001b[1;33m\u001b[0m\u001b[1;33m\u001b[0m\u001b[0m\n\u001b[0;32m    466\u001b[0m         \u001b[1;32mraise\u001b[0m \u001b[0mException\u001b[0m\u001b[1;33m(\u001b[0m\u001b[1;34m'unkwon solution method'\u001b[0m\u001b[1;33m)\u001b[0m\u001b[1;33m\u001b[0m\u001b[1;33m\u001b[0m\u001b[0m\n",
      "\u001b[1;31mKeyboardInterrupt\u001b[0m: "
     ]
    }
   ],
   "source": [
    "# a. set fine grid in a dimension\n",
    "model.par.Na = 200\n",
    "model.par.KFEtol = 1e-8 # with larger (original) KFEtol, wont converge\n",
    "# b. solve for fine grid\n",
    "model.solve()\n",
    "# c. save model solution for plotting later\n",
    "model.calculate_moments(do_MPC=True)\n",
    "model_fine = model.copy()"
   ]
  },
  {
   "cell_type": "markdown",
   "metadata": {},
   "source": [
    "# Adaptive tensor product grid algorithm"
   ]
  },
  {
   "cell_type": "code",
   "execution_count": null,
   "metadata": {},
   "outputs": [],
   "source": [
    "tol = 1e-4\n",
    "\n",
    "par = model.par\n",
    "sol = model.sol\n",
    "\n",
    "# fine indices\n",
    "grid_a = par.grid_a\n",
    "grid_ia = np.arange(par.Na,dtype=np.int64)\n",
    "grid_ia_approx = np.arange(par.Na,dtype=np.int64)\n",
    "sol_true_s = sol.s.copy()\n",
    "sol_approx_s = sol.s.copy()\n",
    "sol_true_d = sol.d.copy()\n",
    "sol_approx_d = sol.d.copy()\n",
    "sol_true_d_adj = sol.d_adj.copy()\n",
    "sol_approx_d_adj = sol.d_adj.copy()"
   ]
  },
  {
   "cell_type": "code",
   "execution_count": null,
   "metadata": {},
   "outputs": [],
   "source": [
    "# iterate\n",
    "it = 0\n",
    "while it < 100:\n",
    "    \n",
    "    # a. number of grid points\n",
    "    Na_approx  = grid_ia_approx.size\n",
    "    \n",
    "    # b. vectors for including or not\n",
    "    Ia_approx = np.ones(Na_approx,dtype=np.bool_)  \n",
    "\n",
    "    # c. a dimension\n",
    "    for ia_ in range(1,Na_approx,2):\n",
    "        \n",
    "        if ia_ == Na_approx-1: continue # interpolation not possible\n",
    "        \n",
    "        # a. solution at fine\n",
    "        ia = grid_ia_approx[ia_]\n",
    "        true_s = sol_true_s[:,ia,:]\n",
    "        true_d = sol_true_d[:,ia,:]\n",
    "        true_d_adj = sol_true_d_adj[:,ia,:]\n",
    "        \n",
    "        # b. neighbors in adaptive\n",
    "        ia_u = grid_ia_approx[ia_+1]\n",
    "        ia_d = grid_ia_approx[ia_-1]\n",
    "        \n",
    "        # c. interpolation\n",
    "        w = (grid_a[ia_u]-grid_a[ia])/(grid_a[ia_u]-grid_a[ia_d])\n",
    "        approx_s = w*sol_true_s[:,ia_d,:] + (1-w)*sol_true_s[:,ia_u,:]\n",
    "        approx_d = w*sol_true_d[:,ia_d,:] + (1-w)*sol_true_d[:,ia_u,:]\n",
    "        approx_d_adj = w*sol_true_d_adj[:,ia_d,:] + (1-w)*sol_true_d_adj[:,ia_u,:]\n",
    "        \n",
    "        # d. error\n",
    "        max_abs_error_s = np.max(np.abs(true_s-approx_s)/(true_s or not true_s))\n",
    "        max_abs_error_d = np.max(np.abs(true_d-approx_d)/(true_d or not true_d))\n",
    "        max_abs_error_d_adj = np.max(np.abs(true_d_adj-approx_d_adj/(true_d_adj or not true_d_adj))\n",
    "        max_abs_error = np.max(np.array([max_abs_error_s,max_abs_error_d,max_abs_error_d_adj]))\n",
    "        Ia_approx[ia_] = True if max_abs_error > tol else False\n",
    "    \n",
    "    # e. update adaptive\n",
    "    grid_ia_approx = grid_ia_approx[Ia_approx]\n",
    "    \n",
    "    sol_approx_s = sol_approx_s[:,Ia_approx,:]\n",
    "    sol_approx_d = sol_approx_d[:,Ia_approx,:]\n",
    "    sol_approx_d_adj = sol_approx_d_adj[:,Ia_approx,:]\n",
    "\n",
    "    # f. check\n",
    "    removed = np.sum(~Ia_approx)\n",
    "    share = grid_ia_approx.size/grid_a.size\n",
    "    print(f'{it}: {removed:6d} grids points removed, share of grid points remaining {share:.4f}')\n",
    "    \n",
    "    if removed == 0: break\n",
    "    it += 1\n",
    "\n",
    "# constructive adaptive\n",
    "grid_a_approx = grid_a[grid_ia_approx]"
   ]
  },
  {
   "cell_type": "markdown",
   "metadata": {},
   "source": [
    "**Effectiveness:** We see that approx. 15% of grid points are removed."
   ]
  },
  {
   "cell_type": "code",
   "execution_count": null,
   "metadata": {},
   "outputs": [],
   "source": [
    "print(f'grids points for a-dimension is {grid_a_approx.size} [fine: {grid_a.size}]')"
   ]
  },
  {
   "cell_type": "markdown",
   "metadata": {},
   "source": [
    "# Approximation error"
   ]
  },
  {
   "cell_type": "code",
   "execution_count": null,
   "metadata": {},
   "outputs": [],
   "source": [
    "from consav import linear_interp\n",
    "max_rel_abs_error = -np.inf\n",
    "for iz,z in enumerate(par.grid_z):\n",
    "    for ia,a in enumerate(par.grid_a):\n",
    "        for ib,b in enumerate(par.grid_b):\n",
    "            interp_s = linear_interp.interp_3d(par.grid_z,grid_a_approx,par.grid_b,sol_approx_s,z,a,b) \n",
    "            interp_d = linear_interp.interp_3d(par.grid_z,grid_a_approx,par.grid_b,sol_approx_d,z,a,b) \n",
    "            interp_d_adj = linear_interp.interp_3d(par.grid_z,grid_a_approx,par.grid_b,sol_approx_d_adj,z,a,b) \n",
    "            true_s = sol_true_s[iz,ia,ib]\n",
    "            true_d = sol_true_d[iz,ia,ib]\n",
    "            true_d_adj = sol_true_d_adj[iz,ia,ib]\n",
    "            max_abs_error_s = np.fmax(max_abs_error_s,np.abs(true_s-interp_s)/(true_s or not true_s))\n",
    "            max_abs_error_d = np.fmax(max_abs_error_d,np.abs(true_d-interp_d)/(true_d or not true_d))\n",
    "            max_abs_error_d_adj = np.fmax(max_abs_error_d_adj,np.abs(true_d_adj-interp_d_adj)/(true_d_adj or not true_d_adj))\n",
    "            max_abs_error = np.max(np.array([max_abs_error_s,max_abs_error_d,max_abs_error_d_adj]))\n",
    "        \n",
    "print(f'max_rel_abs_error = {max_abs_error:.8f}')"
   ]
  },
  {
   "cell_type": "markdown",
   "metadata": {},
   "source": [
    "**Precision:**  Somewhat better than the tolerance of 1e-4."
   ]
  },
  {
   "cell_type": "markdown",
   "metadata": {},
   "source": [
    "# Figures"
   ]
  },
  {
   "cell_type": "markdown",
   "metadata": {},
   "source": [
    "**Re-solve model for small grid**"
   ]
  },
  {
   "cell_type": "code",
   "execution_count": null,
   "metadata": {},
   "outputs": [],
   "source": [
    "# a. set reduced grid in a dimension\n",
    "model.par.Na = grid_a_approx.size\n",
    "# b. solve for fine grid\n",
    "model.solve(load_grid=True,grid_a=grid_a_approx)\n",
    "# c. save for plotting\n",
    "model.calculate_moments(do_MPC=True)\n",
    "model_small = model.copy()"
   ]
  },
  {
   "cell_type": "markdown",
   "metadata": {},
   "source": [
    "**Plot comparison**"
   ]
  },
  {
   "cell_type": "code",
   "execution_count": null,
   "metadata": {},
   "outputs": [],
   "source": [
    "fig = plt.figure(figsize=(12,6))\n",
    "\n",
    "ax = fig.add_subplot(2,2,1)\n",
    "ax.set_xscale('symlog')\n",
    "ax.plot(model_fine.par.grid_a*100,model_fine.moms['a_margcum'])\n",
    "ax.plot(model_small.par.grid_a*100,model_small.moms['a_margcum'])\n",
    "ax.set_xlabel('$100 \\cdot a_t$')\n",
    "ax.set_ylabel(f'CDF')\n",
    "ax.set_ylim([-0.01,1.01])\n",
    "ax.legend(['Fine','Small'],frameon=True)\n",
    "\n",
    "ax = fig.add_subplot(2,2,2)\n",
    "ax.set_xscale('symlog')\n",
    "ax.plot(model_fine.par.grid_b*100,model_fine.moms['b_margcum'])\n",
    "ax.plot(model_small.par.grid_b*100,model_small.moms['b_margcum'])\n",
    "ax.set_xlabel('$100 \\cdot b_t$')\n",
    "ax.set_ylabel(f'CDF')\n",
    "ax.set_ylim([-0.01,1.01])\n",
    "ax.legend(['Fine','Small'],frameon=True)\n",
    "\n",
    "print(f\"AY with a fine grid: {model_fine.moms['AY']:.8f}\")\n",
    "print(f\"AY with a small grid: {model_small.moms['AY']:.8f}\")\n",
    "\n",
    "print(f\"Avg. MPC with a fine grid: {model_fine.moms['MPC']:.8f}\")\n",
    "print(f\"Avg. MPC with a small grid: {model_small.moms['MPC']:.8f}\")"
   ]
  }
 ],
 "metadata": {
  "kernelspec": {
   "display_name": "Python 3",
   "language": "python",
   "name": "python3"
  },
  "language_info": {
   "codemirror_mode": {
    "name": "ipython",
    "version": 3
   },
   "file_extension": ".py",
   "mimetype": "text/x-python",
   "name": "python",
   "nbconvert_exporter": "python",
   "pygments_lexer": "ipython3",
   "version": "3.7.3"
  },
  "toc-autonumbering": true
 },
 "nbformat": 4,
 "nbformat_minor": 4
}
